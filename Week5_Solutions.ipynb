{
 "cells": [
  {
   "cell_type": "markdown",
   "metadata": {},
   "source": [
    "# Week 4 - k-means clustering"
   ]
  },
  {
   "cell_type": "markdown",
   "metadata": {},
   "source": [
    "In this lab we'll implement the k-means algorithm.\n",
    "\n",
    "We will represent points in the space as tuples, and use lists of tuples for our dataset, like so:"
   ]
  },
  {
   "cell_type": "code",
   "execution_count": 5,
   "metadata": {},
   "outputs": [],
   "source": [
    "# Five two-dimensional points\n",
    "example_data_2d = [(2,3),(5,3.4),(1.3,0.2),(3.1,3),(2.2,4)]\n",
    "\n",
    "# Five three-dimensional points\n",
    "example_data_3d = [(2,3,1.2),(5,3.4,4),(1.3,0.2,5.2),(3.1,3,3),(2.2,4,2)]"
   ]
  },
  {
   "cell_type": "markdown",
   "metadata": {},
   "source": [
    "These algorithms can be written more efficiently using numpy arrays. All the hints are set up to assume that you will write your functions using lists of tuples, but if you're experienced with Python, you can try using numpy arrays instead. Numpy implements vectorised maths and so it will be faster to run, and in many cases more concise to write."
   ]
  },
  {
   "cell_type": "code",
   "execution_count": 6,
   "metadata": {},
   "outputs": [],
   "source": [
    "%matplotlib inline\n",
    "import matplotlib.pyplot as plt\n",
    "import numpy as np"
   ]
  },
  {
   "cell_type": "markdown",
   "metadata": {},
   "source": [
    "## Data "
   ]
  },
  {
   "cell_type": "markdown",
   "metadata": {},
   "source": [
    "We'll use 2D data points so it's easy to visualise our results. This code generates some \"real\" clusters probabilistically, and a smattering of random points all over the space."
   ]
  },
  {
   "cell_type": "code",
   "execution_count": 7,
   "metadata": {},
   "outputs": [],
   "source": [
    "# cluster 3 is a little more widely spread than clusters 1 and 2\n",
    "\n",
    "# cluster1 is centred at (1,1) and has standard deviation 0.2, and 20 points\n",
    "cluster1 = np.random.randn(20,2)*0.2+np.array([[1,1]])\n",
    "cluster2 = np.random.randn(20,2)*0.3+np.array([[2,1]])\n",
    "cluster3 = np.random.randn(20,2)*0.2+np.array([[1.5,2]])\n",
    "background = np.random.uniform(low=[0,0],high=[3,3],size=(30,2))"
   ]
  },
  {
   "cell_type": "code",
   "execution_count": 8,
   "metadata": {},
   "outputs": [
    {
     "name": "stdout",
     "output_type": "stream",
     "text": [
      "[(0.9198766877554452, 1.1674385373930891), (1.0367450980143567, 0.9864738325111709), (1.071798770762525, 1.0841890218514976), (0.8905647665035683, 0.7064297669667878), (0.5001987571335391, 1.4785907351189573)]\n"
     ]
    }
   ],
   "source": [
    "points_array = np.concatenate([cluster1,cluster2,cluster3,background])\n",
    "# We'll represent the points as a list of tuples\n",
    "points = [tuple(p) for p in points_array]\n",
    "# Show the first five\n",
    "print(points[:5])"
   ]
  },
  {
   "cell_type": "code",
   "execution_count": 9,
   "metadata": {},
   "outputs": [
    {
     "data": {
      "text/plain": [
       "<matplotlib.collections.PathCollection at 0x7fbeea23e650>"
      ]
     },
     "execution_count": 9,
     "metadata": {},
     "output_type": "execute_result"
    },
    {
     "data": {
      "image/png": "[encoded data removed]",
      "text/plain": [
       "<Figure size 432x288 with 1 Axes>"
      ]
     },
     "metadata": {
      "needs_background": "light"
     },
     "output_type": "display_data"
    }
   ],
   "source": [
    "# Plot the points\n",
    "# NB if using a numpy array instead of a list, we'd write\n",
    "#   plt.scatter(points[:,0],points[:,1])\n",
    "\n",
    "x_values = [x for (x,y) in points]\n",
    "y_values = [y for (x,y) in points]\n",
    "plt.scatter(x_values, y_values)"
   ]
  },
  {
   "cell_type": "markdown",
   "metadata": {},
   "source": [
    "## K-means "
   ]
  },
  {
   "cell_type": "markdown",
   "metadata": {},
   "source": [
    "The function to initialise centroids is provided for you. This function returns a list of k centroids, randomly placed. Notice that it is completely random - we could improve this function by trying to space the centroids far apart from one another."
   ]
  },
  {
   "cell_type": "code",
   "execution_count": 10,
   "metadata": {},
   "outputs": [],
   "source": [
    "def initialise_centroids(data, k):\n",
    "    \"\"\"\n",
    "    Place centroids randomly into range of data of arbitrary dimension.\n",
    "    Takes a list of N data points.\n",
    "    Returns a list of k centroids, each of which will be a tuple of the same\n",
    "    dimensionality as the data points.\n",
    "    \"\"\"\n",
    "    d = len(data[0])\n",
    "    # Make the data into a numpy array\n",
    "    arr = np.array(data)\n",
    "    minvals = np.min(data,axis=0)\n",
    "    maxvals = np.max(data,axis=0)\n",
    "    centroids = np.random.uniform(low=minvals,high=maxvals,size=(k,d))\n",
    "    # Return our centroids as a list of tuples\n",
    "    return [tuple(c) for c in centroids]"
   ]
  },
  {
   "cell_type": "markdown",
   "metadata": {},
   "source": [
    "**Exercise 1:**\n",
    "\n",
    "Complete the function `assign_points()`. Given a list of k centroids and a list of N points, find which is the closest centroid to each point. Your function should return a list of N integers. Each integer should be a number from 0 to k-1, corresponding to the closest centroid for that point."
   ]
  },
  {
   "cell_type": "code",
   "execution_count": 11,
   "metadata": {},
   "outputs": [
    {
     "name": "stdout",
     "output_type": "stream",
     "text": [
      "2.8284271247461903\n"
     ]
    }
   ],
   "source": [
    "# This function is provided for you. It calculates Euclidean distance between two points.\n",
    "from kmeans_utilities import euclidean_distance\n",
    "print(euclidean_distance((1,1),(3,3)))"
   ]
  },
  {
   "cell_type": "code",
   "execution_count": 12,
   "metadata": {},
   "outputs": [],
   "source": [
    "def assign_points(centroids, data):\n",
    "    \"\"\"\n",
    "    Assign each point to its closest centroid.\n",
    "    Take in an array of shape (k,d) representing centroid coordinates,\n",
    "    and an array of shape (N,d) representing data coordinates.\n",
    "    Return a list or array of N values where each value is between 0 and k-1\n",
    "    and represents the centroid that the data point has been assigned to.\n",
    "    \"\"\"\n",
    "    \n",
    "    closest_centroids = []\n",
    "    for point in data:\n",
    "        distances = []\n",
    "        \n",
    "        for centroid_position in centroids:\n",
    "            dist = euclidean_distance(point, centroid_position)\n",
    "            distances.append(dist)\n",
    "        \n",
    "        min_dist = min(distances)\n",
    "        closest_cent = distances.index(min_dist)\n",
    "        closest_centroids.append(closest_cent)\n",
    "                \n",
    "    return closest_centroids\n",
    "\n"
   ]
  },
  {
   "cell_type": "code",
   "execution_count": 13,
   "metadata": {},
   "outputs": [],
   "source": [
    "def assign_points_2liner(centroids, data):\n",
    "    \"\"\"\n",
    "    Assign each point to its closest centroid.\n",
    "    Take in an array of shape (k,d) representing centroid coordinates,\n",
    "    and an array of shape (N,d) representing data coordinates.\n",
    "    Return a list or array of N values where each value is between 0 and k-1\n",
    "    and represents the centroid that the data point has been assigned to.\n",
    "    \"\"\"\n",
    "    \n",
    "    closest_centroids = []\n",
    "    for p in data:\n",
    "        distances = [euclidean_distance(p, c) for c in centroids]\n",
    "        closest_centroids.append(distances.index(min(distances)))\n",
    "        \n",
    "    return closest_centroids"
   ]
  },
  {
   "cell_type": "code",
   "execution_count": 14,
   "metadata": {},
   "outputs": [
    {
     "data": {
      "text/plain": [
       "[0, 1, 0, 1, 1]"
      ]
     },
     "execution_count": 14,
     "metadata": {},
     "output_type": "execute_result"
    }
   ],
   "source": [
    "# Should return [0, 1, 0, 1, 1]\n",
    "example_centroids = [(2,2),(4,4)]\n",
    "assign_points(example_centroids, example_data_2d)"
   ]
  },
  {
   "cell_type": "code",
   "execution_count": 15,
   "metadata": {},
   "outputs": [
    {
     "data": {
      "text/plain": [
       "[1, 0, 1, 1, 1]"
      ]
     },
     "execution_count": 15,
     "metadata": {},
     "output_type": "execute_result"
    }
   ],
   "source": [
    "# Should return [1, 0, 1, 1, 1]\n",
    "example_centroids = [(5,2,0),(3,1,1)]\n",
    "assign_points(example_centroids, example_data_3d)"
   ]
  },
  {
   "cell_type": "markdown",
   "metadata": {},
   "source": [
    "**Exercise 2:**\n",
    "\n",
    "Complete the function `calculate_mean_centroids()`. This function should take in the list of data points, the list of assignments to clusters, and k, and return the a list of centroids.\n",
    "\n",
    "The function `average_point()` is provided for you. Given a list of points, it finds the mean. You need to pass it the correct points for each cluster."
   ]
  },
  {
   "cell_type": "code",
   "execution_count": 44,
   "metadata": {},
   "outputs": [],
   "source": [
    "# This function is provided for you\n",
    "from kmeans_utilities import average_point"
   ]
  },
  {
   "cell_type": "code",
   "execution_count": 60,
   "metadata": {},
   "outputs": [],
   "source": [
    "from collections import defaultdict\n",
    "def calculate_mean_centroids(data, assignments, k):\n",
    "    # 3 solutions - dict, iteration, list comprehension\n",
    "    # dict\n",
    "    \n",
    "    clusters_points = defaultdict(list)\n",
    "    for point, assignment in zip(data, assignments):\n",
    "        clusters_points[assignment].append(point)\n",
    "        \n",
    "    clusters_points = list(clusters_points.items())\n",
    "    clusters_points.sort()\n",
    "        \n",
    "    updated_centroids = []    \n",
    "    for cluster, point_list in clusters_points:\n",
    "        updated_centroid = average_point(point_list)\n",
    "        updated_centroids.append(updated_centroid)\n",
    "    \n",
    "    return updated_centroids"
   ]
  },
  {
   "cell_type": "code",
   "execution_count": 49,
   "metadata": {},
   "outputs": [],
   "source": [
    "def calculate_mean_centroids(data, assignments, k):\n",
    "    # 3 solutions - dict, iteration, list comprehension\n",
    "    # iteration\n",
    "    \n",
    "    updated_centroids = []\n",
    "    for cluster in range(k):\n",
    "        points = []\n",
    "        for point, assignment in zip(data, assignments):\n",
    "            if assignment == cluster:\n",
    "                points.append(point)\n",
    "                \n",
    "        updated_centroid = average_point(points)\n",
    "        updated_centroids.append(updated_centroid)\n",
    "        \n",
    "    return updated_centroids"
   ]
  },
  {
   "cell_type": "code",
   "execution_count": 47,
   "metadata": {},
   "outputs": [],
   "source": [
    "def calculate_mean_centroids(data, assignments, k):\n",
    "    # 3 solutions - dict, iteration, list comprehension\n",
    "    # list comprehension\n",
    "    \n",
    "    updated_centroids = []\n",
    "    for cluster in range(k):\n",
    "        points = [point for point, assignment in zip(data, assignments) if assignment == cluster]\n",
    "        centroids.append(average_point(points))\n",
    "        \n",
    "    return updated_centroids"
   ]
  },
  {
   "cell_type": "code",
   "execution_count": 61,
   "metadata": {},
   "outputs": [
    {
     "data": {
      "text/plain": [
       "[(1.65, 1.6), (3.4333333333333336, 3.466666666666667)]"
      ]
     },
     "execution_count": 61,
     "metadata": {},
     "output_type": "execute_result"
    }
   ],
   "source": [
    "# Should return centroids [( 1.65,  1.6 ), (3.43333333,  3.46666667)]\n",
    "calculate_mean_centroids(example_data_2d, [0, 1, 0, 1, 1], 2)"
   ]
  },
  {
   "cell_type": "code",
   "execution_count": 62,
   "metadata": {},
   "outputs": [
    {
     "data": {
      "text/plain": [
       "[(5.0, 3.4, 4.0), (2.1500000000000004, 2.55, 2.85)]"
      ]
     },
     "execution_count": 62,
     "metadata": {},
     "output_type": "execute_result"
    }
   ],
   "source": [
    "# Should return centroids [(5, 3.34, 4), (2.15,2.55,2.85)]\n",
    "calculate_mean_centroids(example_data_3d, [1, 0, 1, 1, 1], 2)"
   ]
  },
  {
   "cell_type": "markdown",
   "metadata": {},
   "source": [
    "**Exercise 3:**\n",
    "\n",
    "Complete the `kmeans()` function to carry out k-means clustering. You can use the functions you created in the first two exercises. You only need to fill in the missing lines in the iterative loop."
   ]
  },
  {
   "cell_type": "code",
   "execution_count": 53,
   "metadata": {},
   "outputs": [],
   "source": [
    "# These function is provided for you (and used already below)\n",
    "from kmeans_utilities import points_equal, plot_kmeans"
   ]
  },
  {
   "cell_type": "code",
   "execution_count": 79,
   "metadata": {},
   "outputs": [],
   "source": [
    "def kmeans(data, k):\n",
    "    N = len(data)\n",
    "    d = len(data[0])\n",
    "    centroids = initialise_centroids(data, k)\n",
    "    cluster_assignments = assign_points(centroids, data)\n",
    "    old_centroids = [(0,)*d]*k  # unlikely to be equal to centroids at start\n",
    "    \n",
    "    while not points_equal(centroids,old_centroids):\n",
    "        old_centroids = centroids\n",
    "        cluster_assignments = assign_points(centroids, data)\n",
    "        centroids = calculate_mean_centroids(data, cluster_assignments, k)\n",
    "        #optional\n",
    "        plot_kmeans(data, centroids, cluster_assignments, k)\n",
    "    \n",
    "    return (centroids, cluster_assignments)\n"
   ]
  },
  {
   "cell_type": "code",
   "execution_count": 80,
   "metadata": {},
   "outputs": [
    {
     "data": {
      "image/png": "[encoded data removed]",
      "text/plain": [
       "<Figure size 432x288 with 1 Axes>"
      ]
     },
     "metadata": {
      "needs_background": "light"
     },
     "output_type": "display_data"
    },
    {
     "data": {
      "image/png": "[encoded data removed]",
      "text/plain": [
       "<Figure size 432x288 with 1 Axes>"
      ]
     },
     "metadata": {
      "needs_background": "light"
     },
     "output_type": "display_data"
    },
    {
     "data": {
      "text/plain": [
       "([(1.3, 0.2), (3.075, 3.35)], [1, 1, 0, 1, 1])"
      ]
     },
     "execution_count": 80,
     "metadata": {},
     "output_type": "execute_result"
    }
   ],
   "source": [
    "# Answer can be random depending on random initialisation. \n",
    "# Likely solutions are:\n",
    "# centroids [(1.3,0.2),(3.075,3.35)]\n",
    "# cluster assignments [1, 1, 0, 1, 1] or [0, 0, 1, 0, 0]\n",
    "#  OR\n",
    "# centroids [(2.1,3.5),(3.1333,2.2)]\n",
    "# cluster assignments [0, 1, 1, 1, 0] or [1, 0, 0, 0, 1]\n",
    "#  OR\n",
    "# centroids [(5,3.4),(2.15,2.55)]\n",
    "# cluster assignments [1, 0, 1, 1, 1] or [0, 1, 0, 0, 0]\n",
    "\n",
    "kmeans(example_data_2d,2)"
   ]
  },
  {
   "cell_type": "markdown",
   "metadata": {},
   "source": [
    "Now test on the 2D data we created at the top of the notebook:"
   ]
  },
  {
   "cell_type": "code",
   "execution_count": 83,
   "metadata": {},
   "outputs": [
    {
     "data": {
      "image/png": "[encoded data removed]",
      "text/plain": [
       "<Figure size 432x288 with 1 Axes>"
      ]
     },
     "metadata": {
      "needs_background": "light"
     },
     "output_type": "display_data"
    },
    {
     "data": {
      "image/png": "[encoded data removed]",
      "text/plain": [
       "<Figure size 432x288 with 1 Axes>"
      ]
     },
     "metadata": {
      "needs_background": "light"
     },
     "output_type": "display_data"
    },
    {
     "data": {
      "image/png": "[encoded data removed]",
      "text/plain": [
       "<Figure size 432x288 with 1 Axes>"
      ]
     },
     "metadata": {
      "needs_background": "light"
     },
     "output_type": "display_data"
    },
    {
     "data": {
      "image/png": "[encoded data removed]",
      "text/plain": [
       "<Figure size 432x288 with 1 Axes>"
      ]
     },
     "metadata": {
      "needs_background": "light"
     },
     "output_type": "display_data"
    },
    {
     "name": "stdout",
     "output_type": "stream",
     "text": [
      "[(2.1036677568378597, 1.1115327676193956), (1.014794397522051, 0.9702570923391344), (1.353689236548537, 2.1883006165299683)]\n",
      "[1, 1, 1, 1, 1, 1, 1, 1, 1, 1, 1, 1, 1, 1, 1, 1, 1, 1, 1, 1, 0, 0, 0, 0, 0, 1, 0, 1, 0, 0, 0, 0, 0, 0, 0, 0, 0, 0, 0, 0, 2, 2, 2, 2, 2, 2, 2, 2, 2, 2, 2, 2, 2, 2, 2, 2, 2, 2, 2, 2, 2, 0, 2, 0, 2, 0, 2, 1, 2, 0, 0, 2, 0, 2, 1, 2, 1, 1, 0, 1, 1, 2, 1, 1, 1, 1, 2, 2, 0, 1]\n"
     ]
    }
   ],
   "source": [
    "k = 3\n",
    "centroids, assignments = kmeans(points, k)\n",
    "print(centroids)\n",
    "print(assignments)"
   ]
  },
  {
   "cell_type": "code",
   "execution_count": 84,
   "metadata": {},
   "outputs": [
    {
     "data": {
      "image/png": "[encoded data removed]",
      "text/plain": [
       "<Figure size 432x288 with 1 Axes>"
      ]
     },
     "metadata": {
      "needs_background": "light"
     },
     "output_type": "display_data"
    }
   ],
   "source": [
    "plot_kmeans(points, centroids, assignments, k)"
   ]
  },
  {
   "cell_type": "markdown",
   "metadata": {},
   "source": [
    "### Bonus - DBScan\n",
    "We're going to use the sklearn package to implement DBSCAN using the tutorial outlined [here](https://scikit-learn.org/stable/auto_examples/cluster/plot_dbscan.html#sphx-glr-auto-examples-cluster-plot-dbscan-py)"
   ]
  },
  {
   "cell_type": "code",
   "execution_count": 15,
   "metadata": {},
   "outputs": [],
   "source": [
    "from sklearn.cluster import DBSCAN\n",
    "from sklearn import metrics\n",
    "from sklearn.datasets.samples_generator import make_blobs\n",
    "from sklearn.preprocessing import StandardScaler"
   ]
  },
  {
   "cell_type": "code",
   "execution_count": 16,
   "metadata": {},
   "outputs": [],
   "source": [
    "# Generate sample data\n",
    "centers = [[1, 1], [-1, -1], [1, -1]]\n",
    "X, labels_true = make_blobs(n_samples=750, centers=centers, cluster_std=0.4,random_state=0)\n",
    "X = StandardScaler().fit_transform(X)"
   ]
  },
  {
   "cell_type": "markdown",
   "metadata": {},
   "source": [
    "**Go ahead and play with the epsilon values and min sample values below to check the effects they have on the clusters**"
   ]
  },
  {
   "cell_type": "code",
   "execution_count": 17,
   "metadata": {},
   "outputs": [
    {
     "name": "stdout",
     "output_type": "stream",
     "text": [
      "Estimated number of clusters: 3\n",
      "Estimated number of noise points: 18\n"
     ]
    }
   ],
   "source": [
    "# Compute DBSCAN\n",
    "db = DBSCAN(eps=0.3, min_samples=10).fit(X) ## <- CHANGE THESE VALUES AND PLOT THE EFFECTS \n",
    "\n",
    "core_samples_mask = np.zeros_like(db.labels_, dtype=bool)\n",
    "core_samples_mask[db.core_sample_indices_] = True\n",
    "labels = db.labels_\n",
    "\n",
    "# Number of clusters in labels, ignoring noise if present.\n",
    "n_clusters_ = len(set(labels)) - (1 if -1 in labels else 0)\n",
    "n_noise_ = list(labels).count(-1)\n",
    "\n",
    "print('Estimated number of clusters: {}'.format(n_clusters_))\n",
    "print('Estimated number of noise points: {}'.format( n_noise_))"
   ]
  },
  {
   "cell_type": "code",
   "execution_count": 18,
   "metadata": {},
   "outputs": [
    {
     "data": {
      "image/png": "[encoded data removed]",
      "text/plain": [
       "<Figure size 432x288 with 1 Axes>"
      ]
     },
     "metadata": {},
     "output_type": "display_data"
    }
   ],
   "source": [
    "# Black removed and is used for noise instead.\n",
    "unique_labels = set(labels)\n",
    "colors = [plt.cm.Spectral(each)\n",
    "          for each in np.linspace(0, 1, len(unique_labels))]\n",
    "for k, col in zip(unique_labels, colors):\n",
    "    if k == -1:\n",
    "        # Black used for noise.\n",
    "        col = [0, 0, 0, 1]\n",
    "    class_member_mask = (labels == k)\n",
    "\n",
    "    #plot the cluster values\n",
    "    xy = X[class_member_mask & core_samples_mask]\n",
    "    plt.plot(xy[:, 0], xy[:, 1], 'o', markerfacecolor=tuple(col),\n",
    "             markeredgecolor='k', markersize=14)\n",
    "\n",
    "    #plot the noise values\n",
    "    xy = X[class_member_mask & ~core_samples_mask]\n",
    "    plt.plot(xy[:, 0], xy[:, 1], 'o', markerfacecolor=tuple(col),\n",
    "             markeredgecolor='k', markersize=6)"
   ]
  },
  {
   "cell_type": "code",
   "execution_count": null,
   "metadata": {},
   "outputs": [],
   "source": []
  }
 ],
 "metadata": {
  "kernelspec": {
   "display_name": "Python 3",
   "language": "python",
   "name": "python3"
  },
  "language_info": {
   "codemirror_mode": {
    "name": "ipython",
    "version": 3
   },
   "file_extension": ".py",
   "mimetype": "text/x-python",
   "name": "python",
   "nbconvert_exporter": "python",
   "pygments_lexer": "ipython3",
   "version": "3.7.6"
  }
 },
 "nbformat": 4,
 "nbformat_minor": 4
}
