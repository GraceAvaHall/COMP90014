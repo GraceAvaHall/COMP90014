{
 "cells": [
  {
   "cell_type": "markdown",
   "metadata": {},
   "source": [
    "# Week 1 - Getting started python and jupyter lab\n",
    "\n",
    "# Setup\n",
    "\n",
    "Programming for this course will be done in python 3. We will be using Jupyter notebooks in a Jupyter lab environment for programming tasks.\n",
    "\n",
    "There will be three things we will of importance to you:\n",
    "\n",
    "1. Jupyter notebook - the actual document where you will code and write your notes\n",
    "2. Jupyter lab - a browser based environment to code in (this is where you edit your notebooks)\n",
    "3. Jupyter hub server - this is the server hosted for you by the CIS to run a jupyter lab instance (you don't need details for this other than how to access it)\n",
    "\n",
    "You can either use the web server at <https://comp90014.eng.unimelb.edu.au>\n",
    "\n",
    "OR\n",
    "\n",
    "Set up a local installation on your own computer. Much harder. Come to me and ask for rescources if you'd like to do this. \n",
    "\n",
    "## Jupyter notebooks\n",
    "\n",
    "* Jupyter notebooks provide an interactive and reproducible programming environment to work with.\n",
    "* Jupyter notebooks allow you to merge code with text in the form of markdown.\n",
    "* All this combined means that reports are no longer static. Users can interact with reports, change code, play with interactive figures, and lots more...\n",
    "\n",
    "For more information visit <https://jupyter.org/>\n",
    "\n",
    "## Jupyter lab\n",
    "\n",
    "This is what you are likely looking at after logging on to the servers. You will be using 4 main components of jupyter lab:\n",
    "\n",
    "1. The code editor\n",
    "2. The file browser\n",
    "3. A command line - where you type UNIX commands\n",
    "4. A code console - where you run python code\n",
    "\n",
    "Please familiarise yourself with Jupyter lab as you will be relying on it through out the course. The documentation <https://jupyterlab.readthedocs.io> is nice and concise.\n",
    "\n",
    "Some useful hotkeys are:\n",
    "    \n",
    "* Shift-Enter : execute the code in the current cell\n",
    "* Enter : edit the current cell\n",
    "* ESC : stop editing a cell and return to \"command mode\" to use other hotkeys\n",
    "* m : Turn the current cell into a Markdown cell\n",
    "* y : Turn the current cell into a code cell\n",
    "* a : add a new cell above\n",
    "* b : add a new cell below\n",
    "* dd : delete the current cell\n",
    "* c : copy the current cell\n",
    "* v : paste the copied cell(s)\n",
    "\n",
    "You can also execute the command ? or help() to get help on any function. For instance, sorted? or help(sorted).\n",
    "\n",
    "## Jupyter Hub\n",
    "\n",
    "This is the server instance set up by the CIS. Each of you should be able to login to the server and launch a Jupyter lab instance. The web address for the server is <https://comp90014.eng.unimelb.edu.au>. You will need to be within the campus (connecte to UniWireless if using your laptop) to access the server. Off campus access is possible using the University VPN service <https://studentit.unimelb.edu.au/findconnect/vpn>.\n",
    "\n",
    "> The \"https://\" prefix for the address is required\n",
    "\n",
    "## Using Git and GitHub\n",
    "\n",
    "All tutorial materials for this course are hosted on GitHub. Git is a version control system that is commonly used when programming. It is good practice to use version control systems when coding to avoid those nasty surprises where all your work for no reason at all (it does happen!). GitHub is a service that allows you to have your version controlled code online (like this repository).\n",
    "\n",
    "Common commands you will be using are:\n",
    "\n",
    "1. `git clone https://github.com/HannahHuckstep/COMP90014_2019 ' - to make a copy of this repository today\n",
    "2. `git pull` - to download changes made every week (i.e. to download the content for each week's tutorial)\n",
    "3. `git push` - to upload changes. You will **not** be using this for this course but it is a very common command\n",
    "\n",
    "Excluding the first week, each week you will be following the procedure below to avoid complications when using git:\n",
    "\n",
    "1. Perform a pull using `git pull` - this will download any changes e.g. addition of week1.ipynb\n",
    "2. Create a copy of the tutorial document e.g. copy week2.ipynb to week1_hhuckstep.ipynb\n",
    "3. Edit the copied version **NOT** the original (edit week1_hhuckstep.ipynb)\n",
    "\n",
    "Editing the original file will result in complications if you are not familiar with git. If you run into errors, call the tutor(me) up during tutorials and I will help you with them.\n",
    "\n",
    "Too much text? Let your tutor help you out with a demo"
   ]
  },
  {
   "cell_type": "markdown",
   "metadata": {},
   "source": [
    "# Now onto programming in jupyter notebooks\n",
    "\n",
    "The cell below is a code cell. The cell following it is the output of that code"
   ]
  },
  {
   "cell_type": "code",
   "execution_count": 1,
   "metadata": {},
   "outputs": [
    {
     "name": "stdout",
     "output_type": "stream",
     "text": [
      "Hello world!\n"
     ]
    }
   ],
   "source": [
    "print(\"Hello world!\")"
   ]
  },
  {
   "cell_type": "markdown",
   "metadata": {},
   "source": [
    "We will be using some content from **Clare Slogett's** repository to get started on programming in python. These are in the form of jupyter notebooks.\n",
    "\n",
    "Click on: [![Binder](https://mybinder.org/badge.svg)](https://mybinder.org/v2/gh/HannahHuckstep/COMP90014_2019/master)\n",
    "\n",
    "Or go to: <https://github.com/HannahHuckstep/COMP90014_2019>\n"
   ]
  },
  {
   "cell_type": "code",
   "execution_count": null,
   "metadata": {},
   "outputs": [],
   "source": []
  }
 ],
 "metadata": {
  "kernelspec": {
   "display_name": "Python 3",
   "language": "python",
   "name": "python3"
  },
  "language_info": {
   "codemirror_mode": {
    "name": "ipython",
    "version": 3
   },
   "file_extension": ".py",
   "mimetype": "text/x-python",
   "name": "python",
   "nbconvert_exporter": "python",
   "pygments_lexer": "ipython3",
   "version": "3.6.4"
  }
 },
 "nbformat": 4,
 "nbformat_minor": 2
}
