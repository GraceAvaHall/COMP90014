{
 "cells": [
  {
   "cell_type": "markdown",
   "metadata": {},
   "source": [
    "# Week 12 - Variant Analysis\n",
    "\n",
    "This week we will be be implementing a number of web based tools to predict the effects of missense mutations in proteins."
   ]
  },
  {
   "cell_type": "markdown",
   "metadata": {},
   "source": [
    "The protein we will be investigating is **P53**. P53 acts as a tumor suppressor in many tumor types; induces growth arrest or apoptosis depending on the physiological circumstances and cell type. it is involved in cell cycle regulation as a trans-activator that acts to negatively regulate cell division by controlling a set of genes required for this process.\n",
    "\n",
    "### UniProt\n",
    "To start we are going to look at the UniProt database. The Universal Protein Resource (UniProt) is a comprehensive resource for protein sequence and annotation data. "
   ]
  },
  {
   "cell_type": "markdown",
   "metadata": {},
   "source": [
    "<img src=\"img/UniProt.png\" alt=\"UniProt\" />"
   ]
  },
  {
   "cell_type": "markdown",
   "metadata": {},
   "source": [
    ">\"The UniProt Knowledgebase (UniProtKB) is the central hub for the collection of functional information on proteins, with accurate, consistent and rich annotation. In addition to capturing the core data mandatory for each UniProtKB entry (mainly, the amino acid sequence, protein name or description, taxonomic data and citation information), as much annotation information as possible is added\"\n",
    "\n",
    "<br><br><br>\n",
    "UniProt has many components and I encourage you to take time to explore them. However I want to highlight specifically UniProtKB - it is a knowledgebase of (almost) all proteins we know of to date and each is given a unique UniProt ID. \n",
    "\n",
    "NOTE: It is made up of 2 components Swiss-Prot and TrEMBL. Swiss-Prot is **manually curated** and contains proteins that have been reviewed by an expert, while TrEMBL is automatically annotated.  \n",
    "\n",
    "<font color=blue> Explore the Uniprot page for human P53 and see what information you can derive from this page. </font>"
   ]
  },
  {
   "cell_type": "markdown",
   "metadata": {},
   "source": [
    "<br>\n",
    "\n",
    "**Exercise 1 - Getting the Protein of Interest**\n",
    "\n",
    "What is the Uniprot ID for human P53? (put it in the cell below) Is this entry in Swiss-Prot or TrEMBL?"
   ]
  },
  {
   "cell_type": "raw",
   "metadata": {},
   "source": [
    "UniProt ID: P04637\n",
    "Swiss-Prot or TrEMBL?:  Swiss-Prot"
   ]
  },
  {
   "cell_type": "markdown",
   "metadata": {},
   "source": [
    "<br>**Exercise 2 - Choosing a variant**\n",
    "\n",
    "Navigate to the \"Pathology & Biotech\" tab on the left and choose a variant you would like to analyse.\n",
    "\n",
    "Fill in the blanks below for the variant you choose: "
   ]
  },
  {
   "cell_type": "raw",
   "metadata": {},
   "source": [
    "Variant name: dbSNP:rs587778720\n",
    "\n",
    "Position: 213\n",
    "\n",
    "Amino Acid Arginine is changed to proline        R213P"
   ]
  },
  {
   "cell_type": "markdown",
   "metadata": {},
   "source": [
    "**Exercise 3 - Getting the fasta Sequence**\n",
    "\n",
    "Get the Fasta sequence for the first isoform and put it in the cell below.\n",
    "\n",
    "*hint: check out the Sequences tab*"
   ]
  },
  {
   "cell_type": "raw",
   "metadata": {},
   "source": [
    ">sp|P04637|P53_HUMAN Cellular tumor antigen p53 OS=Homo sapiens OX=9606 GN=TP53 PE=1 SV=4\n",
    "MEEPQSDPSVEPPLSQETFSDLWKLLPENNVLSPLPSQAMDDLMLSPDDIEQWFTEDPGP\n",
    "DEAPRMPEAAPPVAPAPAAPTPAAPAPAPSWPLSSSVPSQKTYQGSYGFRLGFLHSGTAK\n",
    "SVTCTYSPALNKMFCQLAKTCPVQLWVDSTPPPGTRVRAMAIYKQSQHMTEVVRRCPHHE\n",
    "RCSDSDGLAPPQHLIRVEGNLRVEYLDDRNTFRHSVVVPYEPPEVGSDCTTIHYNYMCNS\n",
    "SCMGGMNRRPILTIITLEDSSGNLLGRNSFEVRVCACPGRDRRTEEENLRKKGEPHHELP\n",
    "PGSTKRALPNNTSSSPQPKKKPLDGEYFTLQIRGRERFEMFRELNEALELKDAQAGKEPG\n",
    "GSRAHSSHLKSKKGQSTSRHKKLMFKTEGPDSD"
   ]
  },
  {
   "cell_type": "markdown",
   "metadata": {},
   "source": [
    "### SIFT\n",
    "\n",
    "**Exercise 4**\n",
    "\n",
    "Head to the [SIFT](https://sift.bii.a-star.edu.sg/) web tool mentioned in the lectures.\n",
    ">\"predicts whether an amino acid substitution affects protein function based on sequence homology and the physical properties of amino acids. SIFT can be applied to naturally occurring nonsynonymous polymorphisms and laboratory-induced missense mutations.\"\n",
    "\n",
    "1. Click on the \"SIFT Sequence\" link under the \"Single Protein Tools\" Heading\n",
    "2. Perform a SIFT analysis using the fasta format sequence you found above and the variant you are investigating. \n",
    "3. This should take approx. 20 minutes. So you can start on Exercise 5 while you wait \n",
    "\n",
    "Report below whether or not the variant you are investigating is Tolerated or Intolerated as well as if it appeared in the alignment or if it was predicted. "
   ]
  },
  {
   "cell_type": "raw",
   "metadata": {},
   "source": [
    "Intolerated"
   ]
  },
  {
   "cell_type": "markdown",
   "metadata": {},
   "source": [
    "### PolyPhen-2 \n",
    "\n",
    "**Exercise 5** \n",
    "\n",
    "Head to the [PolyPhen-2](http://genetics.bwh.harvard.edu/pph2/) web tool mentioned in the lectures.\n",
    ">\"PolyPhen-2 (Polymorphism Phenotyping v2) is a tool which predicts possible impact of an amino acid substitution on the structure and function of a human protein using straightforward physical and comparative considerations.\"\n",
    "\n",
    "\n",
    "Once again using the sequence you found above and the variant you are investigating perform a PolyPhen analysis. \n",
    "\n",
    "Report below how damaging your variant is predicted to be:"
   ]
  },
  {
   "cell_type": "raw",
   "metadata": {},
   "source": [
    "very"
   ]
  }
 ],
 "metadata": {
  "kernelspec": {
   "display_name": "Python 3",
   "language": "python",
   "name": "python3"
  },
  "language_info": {
   "codemirror_mode": {
    "name": "ipython",
    "version": 3
   },
   "file_extension": ".py",
   "mimetype": "text/x-python",
   "name": "python",
   "nbconvert_exporter": "python",
   "pygments_lexer": "ipython3",
   "version": "3.8.2"
  }
 },
 "nbformat": 4,
 "nbformat_minor": 4
}
