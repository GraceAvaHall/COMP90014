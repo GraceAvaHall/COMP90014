{
 "cells": [
  {
   "cell_type": "markdown",
   "metadata": {},
   "source": [
    "# Week 10 - Indexing "
   ]
  },
  {
   "cell_type": "markdown",
   "metadata": {},
   "source": [
    "In this lab you'll implement some methods for genome indexing: hash tables and tries.\n",
    "\n",
    "Note that since we're using algorithms that are of size $O(m^2)$ (suffix tries rather than suffix trees), and representing tries with high-level data structures, we won't fit realistic genome sizes into memory. However we should achieve fast lookup."
   ]
  },
  {
   "cell_type": "markdown",
   "metadata": {},
   "source": [
    "If you want to be able to draw the tries, you need the graphviz package. <br>\n",
    "We haven't used scikit-bio in the course yet, so there is also a command to install this below if needed.<br>\n",
    "Using `pip` will probably require you to have the graphviz command-line tool already installed."
   ]
  },
  {
   "cell_type": "code",
   "execution_count": null,
   "metadata": {},
   "outputs": [],
   "source": [
    "# conda:\n",
    "!conda install -c conda-forge python-graphviz\n",
    "!conda install -c anaconda scikit-bio"
   ]
  },
  {
   "cell_type": "code",
   "execution_count": null,
   "metadata": {},
   "outputs": [],
   "source": [
    "# pip\n",
    "!pip install graphviz\n",
    "!pip install scikit-bio"
   ]
  },
  {
   "cell_type": "code",
   "execution_count": 9,
   "metadata": {},
   "outputs": [],
   "source": [
    "%matplotlib inline\n",
    "import matplotlib.pyplot as plt"
   ]
  },
  {
   "cell_type": "code",
   "execution_count": 10,
   "metadata": {},
   "outputs": [],
   "source": [
    "from collections import defaultdict\n",
    "import itertools"
   ]
  },
  {
   "cell_type": "code",
   "execution_count": 11,
   "metadata": {},
   "outputs": [],
   "source": [
    "import skbio"
   ]
  },
  {
   "cell_type": "code",
   "execution_count": 12,
   "metadata": {},
   "outputs": [],
   "source": [
    "# only needed to draw tries\n",
    "import graphviz"
   ]
  },
  {
   "cell_type": "code",
   "execution_count": 13,
   "metadata": {},
   "outputs": [],
   "source": [
    "from trie_utilities import draw_trie"
   ]
  },
  {
   "cell_type": "markdown",
   "metadata": {},
   "source": [
    "## Data "
   ]
  },
  {
   "cell_type": "markdown",
   "metadata": {},
   "source": [
    "Strings in lectures:"
   ]
  },
  {
   "cell_type": "code",
   "execution_count": 14,
   "metadata": {},
   "outputs": [],
   "source": [
    "text1 = \"CGTGCGTGCTT\""
   ]
  },
  {
   "cell_type": "code",
   "execution_count": 15,
   "metadata": {},
   "outputs": [],
   "source": [
    "text2 = \"GTTATAGCTGATCGCGGCGTAGCGG\""
   ]
  },
  {
   "cell_type": "markdown",
   "metadata": {},
   "source": [
    "The first 1000 base-pairs of the viral genome, phiX:"
   ]
  },
  {
   "cell_type": "code",
   "execution_count": 16,
   "metadata": {},
   "outputs": [],
   "source": [
    "# Import with skbio and convert to just a string\n",
    "phiX = str(skbio.DNA.read('data/phi-X174-1000bp.fa'))"
   ]
  },
  {
   "cell_type": "code",
   "execution_count": 17,
   "metadata": {},
   "outputs": [],
   "source": [
    "# Or read it ourselves, assuming a file with one FASTA record\n",
    "with open('data/phi-X174-1000bp.fa') as f:\n",
    "    _identifier_row = f.readline()\n",
    "    # Read the rest of the lines and join them into one string\n",
    "    phiX = ''.join([row.strip() for row in f.readlines()])"
   ]
  },
  {
   "cell_type": "markdown",
   "metadata": {},
   "source": [
    "## Generators and iterators"
   ]
  },
  {
   "cell_type": "markdown",
   "metadata": {},
   "source": [
    "We're going to introduce a new kind of Python object - generators - in order to generate large number of strings without occupying a lot of memory.\n",
    "\n",
    "You already know that we can iterate over lists:"
   ]
  },
  {
   "cell_type": "code",
   "execution_count": 18,
   "metadata": {},
   "outputs": [
    {
     "name": "stdout",
     "output_type": "stream",
     "text": [
      "1\n",
      "3\n",
      "5\n"
     ]
    }
   ],
   "source": [
    "for x in [1,3,5]:\n",
    "    print(x)"
   ]
  },
  {
   "cell_type": "markdown",
   "metadata": {},
   "source": [
    "We can also iterate over other data types, like sets and dicts. Any type we can iterate over is *iterable*.\n",
    "\n",
    "*Generators* and *iterators* are special kinds of Python object that are iterable, but which don't need to store any contents in memory. Instead they calculate each value on request.\n",
    "\n",
    "(A generator is a particular kind of iterator, but for this tutorial we are not going to worry about the difference between them.)\n",
    "\n",
    "We can make an example iterator using `iter()` on a data structure:"
   ]
  },
  {
   "cell_type": "code",
   "execution_count": 19,
   "metadata": {},
   "outputs": [
    {
     "name": "stdout",
     "output_type": "stream",
     "text": [
      "<list_iterator object at 0x7f4cc4b720d0>\n"
     ]
    }
   ],
   "source": [
    "number_iterator = iter([1,3,5])\n",
    "print(number_iterator)"
   ]
  },
  {
   "cell_type": "markdown",
   "metadata": {},
   "source": [
    "We can iterate over this just like the original list:"
   ]
  },
  {
   "cell_type": "code",
   "execution_count": 20,
   "metadata": {},
   "outputs": [
    {
     "name": "stdout",
     "output_type": "stream",
     "text": [
      "1\n",
      "3\n",
      "5\n"
     ]
    }
   ],
   "source": [
    "for x in number_iterator:\n",
    "    print(x)"
   ]
  },
  {
   "cell_type": "markdown",
   "metadata": {},
   "source": [
    "The built-in `next()` function gets the next value from an iterator"
   ]
  },
  {
   "cell_type": "code",
   "execution_count": 21,
   "metadata": {},
   "outputs": [],
   "source": [
    "number_iterator = iter([1,3,5])"
   ]
  },
  {
   "cell_type": "code",
   "execution_count": 22,
   "metadata": {},
   "outputs": [
    {
     "data": {
      "text/plain": [
       "1"
      ]
     },
     "execution_count": 22,
     "metadata": {},
     "output_type": "execute_result"
    }
   ],
   "source": [
    "next(number_iterator)"
   ]
  },
  {
   "cell_type": "code",
   "execution_count": 23,
   "metadata": {},
   "outputs": [
    {
     "data": {
      "text/plain": [
       "3"
      ]
     },
     "execution_count": 23,
     "metadata": {},
     "output_type": "execute_result"
    }
   ],
   "source": [
    "next(number_iterator)"
   ]
  },
  {
   "cell_type": "markdown",
   "metadata": {},
   "source": [
    "What do you think would happen if we ran our `for` loop now, i.e. tried to iterate with \n",
    "\n",
    "`for x in number_iterator` ?"
   ]
  },
  {
   "cell_type": "code",
   "execution_count": 24,
   "metadata": {},
   "outputs": [
    {
     "name": "stdout",
     "output_type": "stream",
     "text": [
      "5\n"
     ]
    }
   ],
   "source": [
    "for x in number_iterator:\n",
    "    print(x)"
   ]
  },
  {
   "cell_type": "markdown",
   "metadata": {},
   "source": [
    "More usefully, we can create a generator using a generator function. This means we never need to store all the objects in memory. A generator function is easy to recognise as it uses the `yield` keyword rather than the `return` keyword to return values.\n",
    "\n",
    "Here's a (normal) function that returns a list of k-mers."
   ]
  },
  {
   "cell_type": "code",
   "execution_count": 71,
   "metadata": {},
   "outputs": [
    {
     "name": "stdout",
     "output_type": "stream",
     "text": [
      "[1, 3, 5, 7, 9]\n"
     ]
    }
   ],
   "source": [
    "def get_odds():\n",
    "    numbers = [1, 2, 3, 4, 5, 6, 7, 8, 9, 10]\n",
    "    odds = [x for x in numbers if x % 2 != 0]\n",
    "    return odds\n",
    "\n",
    "print(get_odds())"
   ]
  },
  {
   "cell_type": "code",
   "execution_count": null,
   "metadata": {},
   "outputs": [],
   "source": [
    "def get_odds_generator(max_number):\n",
    "    number = -1\n",
    "    while number < max_number:\n",
    "        number += 2\n",
    "        yield number\n",
    "\n",
    "print(get_odds_generator(10))"
   ]
  },
  {
   "cell_type": "code",
   "execution_count": 25,
   "metadata": {},
   "outputs": [],
   "source": [
    "def get_kmers_list(text, k):\n",
    "    ''' \n",
    "    Return a list of all k-mers of length k from string t.\n",
    "    K-mers may be non-unique.\n",
    "    '''\n",
    "    result = []\n",
    "    for i in range(len(text)-k+1):\n",
    "        kmer = text[i:i+k]\n",
    "        result.append(kmer)\n",
    "    return result"
   ]
  },
  {
   "cell_type": "code",
   "execution_count": 26,
   "metadata": {},
   "outputs": [
    {
     "data": {
      "text/plain": [
       "['BAN', 'ANA', 'NAN', 'ANA']"
      ]
     },
     "execution_count": 26,
     "metadata": {},
     "output_type": "execute_result"
    }
   ],
   "source": [
    "get_kmers_list('BANANA', 3)"
   ]
  },
  {
   "cell_type": "markdown",
   "metadata": {},
   "source": [
    "Here's a *generator function* that returns all the k-mers in the string, but only calculates each one as it is asked for. Every time the function reaches the `yield` keyword, it makes a new value available, which is consumed by whatever we are using to iterate, such as a `for` loop. At no point do we need to store the whole list of k-mers in memory!"
   ]
  },
  {
   "cell_type": "code",
   "execution_count": 27,
   "metadata": {},
   "outputs": [],
   "source": [
    "def get_kmers_iterator(text, k):\n",
    "    ''' \n",
    "    Return a generator yielding all k-mers of length k from string t.\n",
    "    K-mers may be non-unique.\n",
    "    '''\n",
    "    result = []\n",
    "    for i in range(len(text)-k+1):\n",
    "        kmer = text[i:i+k]\n",
    "        yield kmer"
   ]
  },
  {
   "cell_type": "markdown",
   "metadata": {},
   "source": [
    "Notice we yield the kmers one at a time. We don't try to return the whole list at once. There is no list!\n",
    "\n",
    "Every time `next()` is called on our generator, either by a `for` loop or some other means, the function resumes running from where it left off and runs until it gets to a `yield` statement.\n",
    "\n",
    "This gives us a generator, which is iterable:"
   ]
  },
  {
   "cell_type": "code",
   "execution_count": 28,
   "metadata": {},
   "outputs": [
    {
     "name": "stdout",
     "output_type": "stream",
     "text": [
      "BAN\n",
      "ANA\n",
      "NAN\n",
      "ANA\n"
     ]
    }
   ],
   "source": [
    "for kmer in get_kmers_iterator('BANANA',3):\n",
    "    print(kmer)"
   ]
  },
  {
   "cell_type": "code",
   "execution_count": 29,
   "metadata": {},
   "outputs": [
    {
     "name": "stdout",
     "output_type": "stream",
     "text": [
      "<generator object get_kmers_iterator at 0x7f4cc4b7c190>\n"
     ]
    }
   ],
   "source": [
    "# There is no list\n",
    "print(get_kmers_iterator('BANANA', 3))"
   ]
  },
  {
   "cell_type": "markdown",
   "metadata": {},
   "source": [
    "We can still assign the generator to a variable (if we want to)"
   ]
  },
  {
   "cell_type": "code",
   "execution_count": 30,
   "metadata": {},
   "outputs": [
    {
     "name": "stdout",
     "output_type": "stream",
     "text": [
      "<generator object get_kmers_iterator at 0x7f4cc4b7c3c0>\n"
     ]
    }
   ],
   "source": [
    "kmers = get_kmers_iterator('BANANA', 3)\n",
    "print(kmers)"
   ]
  },
  {
   "cell_type": "markdown",
   "metadata": {},
   "source": [
    "Unlike with a list, Python can't tell us how many k-mers are going to be returned in total, as it hasn't built a list - it doesn't know what any of the k-mers are yet."
   ]
  },
  {
   "cell_type": "code",
   "execution_count": 31,
   "metadata": {},
   "outputs": [
    {
     "ename": "TypeError",
     "evalue": "object of type 'generator' has no len()",
     "output_type": "error",
     "traceback": [
      "\u001b[0;31m---------------------------------------------------------------------------\u001b[0m",
      "\u001b[0;31mTypeError\u001b[0m                                 Traceback (most recent call last)",
      "\u001b[0;32m<ipython-input-31-bb5470926e2d>\u001b[0m in \u001b[0;36m<module>\u001b[0;34m\u001b[0m\n\u001b[0;32m----> 1\u001b[0;31m \u001b[0mlen\u001b[0m\u001b[0;34m(\u001b[0m\u001b[0mkmers\u001b[0m\u001b[0;34m)\u001b[0m\u001b[0;34m\u001b[0m\u001b[0;34m\u001b[0m\u001b[0m\n\u001b[0m",
      "\u001b[0;31mTypeError\u001b[0m: object of type 'generator' has no len()"
     ]
    }
   ],
   "source": [
    "len(kmers)"
   ]
  },
  {
   "cell_type": "code",
   "execution_count": 32,
   "metadata": {},
   "outputs": [
    {
     "data": {
      "text/plain": [
       "'BAN'"
      ]
     },
     "execution_count": 32,
     "metadata": {},
     "output_type": "execute_result"
    }
   ],
   "source": [
    "next(kmers)"
   ]
  },
  {
   "cell_type": "code",
   "execution_count": 33,
   "metadata": {},
   "outputs": [
    {
     "name": "stdout",
     "output_type": "stream",
     "text": [
      "ANA\n",
      "NAN\n",
      "ANA\n"
     ]
    }
   ],
   "source": [
    "for kmer in kmers:\n",
    "    print(kmer)"
   ]
  },
  {
   "cell_type": "markdown",
   "metadata": {},
   "source": [
    "This concept is very useful if we want to iterate over large number of k-mers or suffixes and store them in a more concise data structure, and don't want to hold them all in memory in the meantime."
   ]
  },
  {
   "cell_type": "markdown",
   "metadata": {},
   "source": [
    "The itertools module provides lots of handy iterators, and ways to create them. E.g.:"
   ]
  },
  {
   "cell_type": "code",
   "execution_count": 34,
   "metadata": {},
   "outputs": [
    {
     "name": "stdout",
     "output_type": "stream",
     "text": [
      "yes\n",
      "no\n",
      "yes\n",
      "no\n",
      "yes\n",
      "no\n"
     ]
    }
   ],
   "source": [
    "yesno_forever = itertools.cycle(['yes', 'no'])\n",
    "count = 0\n",
    "for x in yesno_forever:\n",
    "    print(x)\n",
    "    count += 1\n",
    "    if count > 5:\n",
    "        # This gets us out of the for loop\n",
    "        break"
   ]
  },
  {
   "cell_type": "markdown",
   "metadata": {},
   "source": [
    "`enumerate()` can also work with iterators:"
   ]
  },
  {
   "cell_type": "code",
   "execution_count": 35,
   "metadata": {},
   "outputs": [
    {
     "name": "stdout",
     "output_type": "stream",
     "text": [
      "0 BAN\n",
      "1 ANA\n",
      "2 NAN\n",
      "3 ANA\n"
     ]
    }
   ],
   "source": [
    "kmers = get_kmers_iterator('BANANA', 3)\n",
    "for (i, kmer) in enumerate(kmers):\n",
    "    print(i, kmer)"
   ]
  },
  {
   "cell_type": "markdown",
   "metadata": {},
   "source": [
    "## Kmer index via hash table"
   ]
  },
  {
   "cell_type": "markdown",
   "metadata": {},
   "source": [
    "**Exercise 1:**\n",
    "\n",
    "Write a function which, given a text string and a value k, builds a k-mer index using a Python dict as a hash table. The keys of the dictionary should be the unique k-mers, and the values should be lists of positions in the text string where the k-mer can be found. \n",
    "\n",
    "Note that you don't need to worry about collisions - the `dict` type takes care of all the details of the hash table."
   ]
  },
  {
   "cell_type": "code",
   "execution_count": 36,
   "metadata": {},
   "outputs": [],
   "source": [
    "from collections import defaultdict\n",
    "\n",
    "def kmer_index(text, k):\n",
    "    ''' \n",
    "    Given a text string and integer k, build a dict of lists representing\n",
    "    a k-mer index.\n",
    "    '''\n",
    "    \n",
    "    index = defaultdict(list)\n",
    "    for i in range(len(text)):\n",
    "        kmer = text[i:i + k]\n",
    "        index[kmer].append(i)\n",
    "    return index\n",
    "    "
   ]
  },
  {
   "cell_type": "code",
   "execution_count": 37,
   "metadata": {},
   "outputs": [
    {
     "data": {
      "text/plain": [
       "defaultdict(list,\n",
       "            {'BA': [0],\n",
       "             'AN': [1, 4],\n",
       "             'ND': [2],\n",
       "             'DA': [3],\n",
       "             'NA': [5],\n",
       "             'A': [6]})"
      ]
     },
     "execution_count": 37,
     "metadata": {},
     "output_type": "execute_result"
    }
   ],
   "source": [
    "# {'BA': [0], 'AN': [1, 4], 'ND': [2], 'DA': [3], 'NA': [5]}\n",
    "kmer_index('BANDANA', 2)"
   ]
  },
  {
   "cell_type": "code",
   "execution_count": 38,
   "metadata": {},
   "outputs": [
    {
     "data": {
      "text/plain": [
       "defaultdict(list,\n",
       "            {'CGTGC': [0, 4],\n",
       "             'GTGCG': [1],\n",
       "             'TGCGT': [2],\n",
       "             'GCGTG': [3],\n",
       "             'GTGCT': [5],\n",
       "             'TGCTT': [6],\n",
       "             'GCTT': [7],\n",
       "             'CTT': [8],\n",
       "             'TT': [9],\n",
       "             'T': [10]})"
      ]
     },
     "execution_count": 38,
     "metadata": {},
     "output_type": "execute_result"
    }
   ],
   "source": [
    "kmer_index(text1, 5)"
   ]
  },
  {
   "cell_type": "code",
   "execution_count": 39,
   "metadata": {},
   "outputs": [],
   "source": [
    "phiX_index = kmer_index(phiX, 6)"
   ]
  },
  {
   "cell_type": "code",
   "execution_count": 40,
   "metadata": {},
   "outputs": [
    {
     "data": {
      "text/plain": [
       "843"
      ]
     },
     "execution_count": 40,
     "metadata": {},
     "output_type": "execute_result"
    }
   ],
   "source": [
    "# How many kmers in index?\n",
    "# The smaller value we use for k, the less unique kmers we expect\n",
    "len(phiX_index)"
   ]
  },
  {
   "cell_type": "code",
   "execution_count": 41,
   "metadata": {},
   "outputs": [
    {
     "data": {
      "text/plain": [
       "[0, 614]"
      ]
     },
     "execution_count": 41,
     "metadata": {},
     "output_type": "execute_result"
    }
   ],
   "source": [
    "phiX_index['GAGTTT']"
   ]
  },
  {
   "cell_type": "markdown",
   "metadata": {},
   "source": [
    "## Suffixes "
   ]
  },
  {
   "cell_type": "markdown",
   "metadata": {},
   "source": [
    "**Exercise 2:**\n",
    "\n",
    "Write a generator function `suffixes()` which, given a genome text, returns all tuples of the form `(i, suffix)` where `i` is a position in the genome text and `suffix` is the corresponding suffix string. Remember to append \"$\" to the text!"
   ]
  },
  {
   "cell_type": "code",
   "execution_count": 42,
   "metadata": {},
   "outputs": [],
   "source": [
    "def suffixes(text):\n",
    "    ''' \n",
    "    Given a text string, yield all suffixes and their genomic positions as tuples\n",
    "    of the form (position, suffix)\n",
    "    '''\n",
    "    text = text + '$'\n",
    "    for i in range(len(text)):\n",
    "        yield i, text[i:]\n",
    "           "
   ]
  },
  {
   "cell_type": "markdown",
   "metadata": {},
   "source": [
    "Should return\n",
    "```\n",
    "(0, 'BANANA$')\n",
    "(1, 'ANANA$')\n",
    "(2, 'NANA$')\n",
    "(3, 'ANA$')\n",
    "(4, 'NA$')\n",
    "(5, 'A$')\n",
    "(6, '$')\n",
    "```"
   ]
  },
  {
   "cell_type": "code",
   "execution_count": 43,
   "metadata": {},
   "outputs": [
    {
     "name": "stdout",
     "output_type": "stream",
     "text": [
      "(0, 'BANANA$')\n",
      "(1, 'ANANA$')\n",
      "(2, 'NANA$')\n",
      "(3, 'ANA$')\n",
      "(4, 'NA$')\n",
      "(5, 'A$')\n",
      "(6, '$')\n"
     ]
    }
   ],
   "source": [
    "for s in suffixes('BANANA'):\n",
    "    print(s)"
   ]
  },
  {
   "cell_type": "markdown",
   "metadata": {},
   "source": [
    "## Suffix tries "
   ]
  },
  {
   "cell_type": "markdown",
   "metadata": {},
   "source": [
    "We're going to build tries that are intended to be used as suffix tries. We'll represent them as nested dictionaries. \n",
    "\n",
    "Any node will be represented by a dict where the dict keys are characters labelling the edges, and the dict values are the child nodes.\n",
    "\n",
    "Since this is a suffix trie, the genomic indices we're looking up are only ever stored at leaf nodes, and the edge leading to a leaf node is always labelled with '$'. So we'll represent a leaf node and its incoming edge with a dict that looks like\n",
    "\n",
    "```{'$':23}```\n",
    "\n",
    "where the value in this leaf node represents the genomic coordinate we want to look up. \n",
    "\n",
    "Notice that we're only storing one integer value per leaf - this is fine for suffixes. Because of this, and because we've assumed the '$' character, we'd need a slightly different data structure for a k-mer trie index or for tries storing generic strings."
   ]
  },
  {
   "cell_type": "markdown",
   "metadata": {},
   "source": [
    "Here's an example trie storing only one string, 'A$', with value 6:"
   ]
  },
  {
   "cell_type": "code",
   "execution_count": 44,
   "metadata": {},
   "outputs": [],
   "source": [
    "example_trie1 = {'A': {'$': 6}}"
   ]
  },
  {
   "cell_type": "code",
   "execution_count": 45,
   "metadata": {},
   "outputs": [
    {
     "data": {
      "image/svg+xml": [
       "<?xml version=\"1.0\" encoding=\"UTF-8\" standalone=\"no\"?>\n",
       "<!DOCTYPE svg PUBLIC \"-//W3C//DTD SVG 1.1//EN\"\n",
       " \"http://www.w3.org/Graphics/SVG/1.1/DTD/svg11.dtd\">\n",
       "<!-- Generated by graphviz version 2.43.0 (0)\n",
       " -->\n",
       "<!-- Title: Suffix trie Pages: 1 -->\n",
       "<svg width=\"44pt\" height=\"218pt\"\n",
       " viewBox=\"0.00 0.00 44.00 218.00\" xmlns=\"http://www.w3.org/2000/svg\" xmlns:xlink=\"http://www.w3.org/1999/xlink\">\n",
       "<g id=\"graph0\" class=\"graph\" transform=\"scale(1 1) rotate(0) translate(4 214)\">\n",
       "<title>Suffix trie</title>\n",
       "<polygon fill=\"white\" stroke=\"transparent\" points=\"-4,4 -4,-214 40,-214 40,4 -4,4\"/>\n",
       "<!-- 0 -->\n",
       "<g id=\"node1\" class=\"node\">\n",
       "<title>0</title>\n",
       "<ellipse fill=\"none\" stroke=\"black\" cx=\"18\" cy=\"-192\" rx=\"18\" ry=\"18\"/>\n",
       "</g>\n",
       "<!-- 1 -->\n",
       "<g id=\"node2\" class=\"node\">\n",
       "<title>1</title>\n",
       "<ellipse fill=\"none\" stroke=\"black\" cx=\"18\" cy=\"-105\" rx=\"18\" ry=\"18\"/>\n",
       "</g>\n",
       "<!-- 0&#45;&gt;1 -->\n",
       "<g id=\"edge1\" class=\"edge\">\n",
       "<title>0&#45;&gt;1</title>\n",
       "<path fill=\"none\" stroke=\"black\" d=\"M18,-173.8C18,-162.16 18,-146.55 18,-133.24\"/>\n",
       "<polygon fill=\"black\" stroke=\"black\" points=\"21.5,-133.18 18,-123.18 14.5,-133.18 21.5,-133.18\"/>\n",
       "<text text-anchor=\"middle\" x=\"25.5\" y=\"-144.8\" font-family=\"Times,serif\" font-size=\"14.00\"> A</text>\n",
       "</g>\n",
       "<!-- 2 -->\n",
       "<g id=\"node3\" class=\"node\">\n",
       "<title>2</title>\n",
       "<ellipse fill=\"none\" stroke=\"black\" cx=\"18\" cy=\"-18\" rx=\"18\" ry=\"18\"/>\n",
       "<text text-anchor=\"middle\" x=\"18\" y=\"-14.3\" font-family=\"Times,serif\" font-size=\"14.00\">6</text>\n",
       "</g>\n",
       "<!-- 1&#45;&gt;2 -->\n",
       "<g id=\"edge2\" class=\"edge\">\n",
       "<title>1&#45;&gt;2</title>\n",
       "<path fill=\"none\" stroke=\"black\" d=\"M18,-86.8C18,-75.16 18,-59.55 18,-46.24\"/>\n",
       "<polygon fill=\"black\" stroke=\"black\" points=\"21.5,-46.18 18,-36.18 14.5,-46.18 21.5,-46.18\"/>\n",
       "<text text-anchor=\"middle\" x=\"25\" y=\"-57.8\" font-family=\"Times,serif\" font-size=\"14.00\"> $</text>\n",
       "</g>\n",
       "</g>\n",
       "</svg>\n"
      ],
      "text/plain": [
       "<graphviz.files.Source at 0x7f4cc4b7b610>"
      ]
     },
     "execution_count": 45,
     "metadata": {},
     "output_type": "execute_result"
    }
   ],
   "source": [
    "draw_trie(example_trie1)"
   ]
  },
  {
   "cell_type": "markdown",
   "metadata": {},
   "source": [
    "Here's an example trie storing suffixes and index values `'AN$':6` and `'AAN$':5` (of course this cannot be a complete suffix trie - it only has two of the suffixes)"
   ]
  },
  {
   "cell_type": "code",
   "execution_count": 46,
   "metadata": {},
   "outputs": [],
   "source": [
    "# nested-dict representation of trie that stores strings with values \n",
    "# 'AN$':[2,6] and 'AAN$':[5]\n",
    "example_trie2 = {'A':{\n",
    "                    'N': {'$': 6}, \n",
    "                    'A': {'N': {'$': 5}}\n",
    "                    }\n",
    "                }"
   ]
  },
  {
   "cell_type": "code",
   "execution_count": 47,
   "metadata": {},
   "outputs": [
    {
     "data": {
      "text/plain": [
       "{'A': {'N': {'$': 6}, 'A': {'N': {'$': 5}}}}"
      ]
     },
     "execution_count": 47,
     "metadata": {},
     "output_type": "execute_result"
    }
   ],
   "source": [
    "example_trie2"
   ]
  },
  {
   "cell_type": "code",
   "execution_count": 48,
   "metadata": {},
   "outputs": [
    {
     "data": {
      "image/svg+xml": [
       "<?xml version=\"1.0\" encoding=\"UTF-8\" standalone=\"no\"?>\n",
       "<!DOCTYPE svg PUBLIC \"-//W3C//DTD SVG 1.1//EN\"\n",
       " \"http://www.w3.org/Graphics/SVG/1.1/DTD/svg11.dtd\">\n",
       "<!-- Generated by graphviz version 2.43.0 (0)\n",
       " -->\n",
       "<!-- Title: Suffix trie Pages: 1 -->\n",
       "<svg width=\"98pt\" height=\"392pt\"\n",
       " viewBox=\"0.00 0.00 98.00 392.00\" xmlns=\"http://www.w3.org/2000/svg\" xmlns:xlink=\"http://www.w3.org/1999/xlink\">\n",
       "<g id=\"graph0\" class=\"graph\" transform=\"scale(1 1) rotate(0) translate(4 388)\">\n",
       "<title>Suffix trie</title>\n",
       "<polygon fill=\"white\" stroke=\"transparent\" points=\"-4,4 -4,-388 94,-388 94,4 -4,4\"/>\n",
       "<!-- 0 -->\n",
       "<g id=\"node1\" class=\"node\">\n",
       "<title>0</title>\n",
       "<ellipse fill=\"none\" stroke=\"black\" cx=\"45\" cy=\"-366\" rx=\"18\" ry=\"18\"/>\n",
       "</g>\n",
       "<!-- 1 -->\n",
       "<g id=\"node2\" class=\"node\">\n",
       "<title>1</title>\n",
       "<ellipse fill=\"none\" stroke=\"black\" cx=\"45\" cy=\"-279\" rx=\"18\" ry=\"18\"/>\n",
       "</g>\n",
       "<!-- 0&#45;&gt;1 -->\n",
       "<g id=\"edge1\" class=\"edge\">\n",
       "<title>0&#45;&gt;1</title>\n",
       "<path fill=\"none\" stroke=\"black\" d=\"M45,-347.8C45,-336.16 45,-320.55 45,-307.24\"/>\n",
       "<polygon fill=\"black\" stroke=\"black\" points=\"48.5,-307.18 45,-297.18 41.5,-307.18 48.5,-307.18\"/>\n",
       "<text text-anchor=\"middle\" x=\"52.5\" y=\"-318.8\" font-family=\"Times,serif\" font-size=\"14.00\"> A</text>\n",
       "</g>\n",
       "<!-- 2 -->\n",
       "<g id=\"node3\" class=\"node\">\n",
       "<title>2</title>\n",
       "<ellipse fill=\"none\" stroke=\"black\" cx=\"18\" cy=\"-192\" rx=\"18\" ry=\"18\"/>\n",
       "</g>\n",
       "<!-- 1&#45;&gt;2 -->\n",
       "<g id=\"edge2\" class=\"edge\">\n",
       "<title>1&#45;&gt;2</title>\n",
       "<path fill=\"none\" stroke=\"black\" d=\"M37.11,-262.61C34.26,-256.6 31.2,-249.59 29,-243 26.52,-235.58 24.44,-227.36 22.79,-219.75\"/>\n",
       "<polygon fill=\"black\" stroke=\"black\" points=\"26.21,-219.01 20.79,-209.91 19.35,-220.4 26.21,-219.01\"/>\n",
       "<text text-anchor=\"middle\" x=\"37.5\" y=\"-231.8\" font-family=\"Times,serif\" font-size=\"14.00\"> N</text>\n",
       "</g>\n",
       "<!-- 4 -->\n",
       "<g id=\"node5\" class=\"node\">\n",
       "<title>4</title>\n",
       "<ellipse fill=\"none\" stroke=\"black\" cx=\"72\" cy=\"-192\" rx=\"18\" ry=\"18\"/>\n",
       "</g>\n",
       "<!-- 1&#45;&gt;4 -->\n",
       "<g id=\"edge4\" class=\"edge\">\n",
       "<title>1&#45;&gt;4</title>\n",
       "<path fill=\"none\" stroke=\"black\" d=\"M50.21,-261.61C54.02,-249.62 59.26,-233.09 63.66,-219.27\"/>\n",
       "<polygon fill=\"black\" stroke=\"black\" points=\"67.12,-219.93 66.81,-209.34 60.45,-217.81 67.12,-219.93\"/>\n",
       "<text text-anchor=\"middle\" x=\"67.5\" y=\"-231.8\" font-family=\"Times,serif\" font-size=\"14.00\"> A</text>\n",
       "</g>\n",
       "<!-- 3 -->\n",
       "<g id=\"node4\" class=\"node\">\n",
       "<title>3</title>\n",
       "<ellipse fill=\"none\" stroke=\"black\" cx=\"18\" cy=\"-105\" rx=\"18\" ry=\"18\"/>\n",
       "<text text-anchor=\"middle\" x=\"18\" y=\"-101.3\" font-family=\"Times,serif\" font-size=\"14.00\">6</text>\n",
       "</g>\n",
       "<!-- 2&#45;&gt;3 -->\n",
       "<g id=\"edge3\" class=\"edge\">\n",
       "<title>2&#45;&gt;3</title>\n",
       "<path fill=\"none\" stroke=\"black\" d=\"M18,-173.8C18,-162.16 18,-146.55 18,-133.24\"/>\n",
       "<polygon fill=\"black\" stroke=\"black\" points=\"21.5,-133.18 18,-123.18 14.5,-133.18 21.5,-133.18\"/>\n",
       "<text text-anchor=\"middle\" x=\"25\" y=\"-144.8\" font-family=\"Times,serif\" font-size=\"14.00\"> $</text>\n",
       "</g>\n",
       "<!-- 5 -->\n",
       "<g id=\"node6\" class=\"node\">\n",
       "<title>5</title>\n",
       "<ellipse fill=\"none\" stroke=\"black\" cx=\"72\" cy=\"-105\" rx=\"18\" ry=\"18\"/>\n",
       "</g>\n",
       "<!-- 4&#45;&gt;5 -->\n",
       "<g id=\"edge5\" class=\"edge\">\n",
       "<title>4&#45;&gt;5</title>\n",
       "<path fill=\"none\" stroke=\"black\" d=\"M72,-173.8C72,-162.16 72,-146.55 72,-133.24\"/>\n",
       "<polygon fill=\"black\" stroke=\"black\" points=\"75.5,-133.18 72,-123.18 68.5,-133.18 75.5,-133.18\"/>\n",
       "<text text-anchor=\"middle\" x=\"80.5\" y=\"-144.8\" font-family=\"Times,serif\" font-size=\"14.00\"> N</text>\n",
       "</g>\n",
       "<!-- 6 -->\n",
       "<g id=\"node7\" class=\"node\">\n",
       "<title>6</title>\n",
       "<ellipse fill=\"none\" stroke=\"black\" cx=\"72\" cy=\"-18\" rx=\"18\" ry=\"18\"/>\n",
       "<text text-anchor=\"middle\" x=\"72\" y=\"-14.3\" font-family=\"Times,serif\" font-size=\"14.00\">5</text>\n",
       "</g>\n",
       "<!-- 5&#45;&gt;6 -->\n",
       "<g id=\"edge6\" class=\"edge\">\n",
       "<title>5&#45;&gt;6</title>\n",
       "<path fill=\"none\" stroke=\"black\" d=\"M72,-86.8C72,-75.16 72,-59.55 72,-46.24\"/>\n",
       "<polygon fill=\"black\" stroke=\"black\" points=\"75.5,-46.18 72,-36.18 68.5,-46.18 75.5,-46.18\"/>\n",
       "<text text-anchor=\"middle\" x=\"79\" y=\"-57.8\" font-family=\"Times,serif\" font-size=\"14.00\"> $</text>\n",
       "</g>\n",
       "</g>\n",
       "</svg>\n"
      ],
      "text/plain": [
       "<graphviz.files.Source at 0x7f4cc4b7b4c0>"
      ]
     },
     "execution_count": 48,
     "metadata": {},
     "output_type": "execute_result"
    }
   ],
   "source": [
    "draw_trie(example_trie2)"
   ]
  },
  {
   "cell_type": "markdown",
   "metadata": {},
   "source": [
    "**Exercise 3:**\n",
    "\n",
    "Write a function which takes a trie, a string and an integer value, and adds the string to the trie, adding the value at the resulting leaf node."
   ]
  },
  {
   "cell_type": "code",
   "execution_count": 56,
   "metadata": {},
   "outputs": [],
   "source": [
    "def add_string(trie, keystring, value):\n",
    "    '''\n",
    "    Given a dict representing a trie, a key string, and an integer value,\n",
    "    add the key string to the trie and add the value at the leaf node.\n",
    "    The key string must be of at least length 1 and end with '$'.\n",
    "    '''\n",
    "    if len(keystring) < 1:\n",
    "        raise RuntimeError('adding string to trie - empty string')\n",
    "    \n",
    "    current_nodes = trie\n",
    "    for char in keystring:\n",
    "        if char == '$':\n",
    "            current_nodes['$'] = value\n",
    "            return trie\n",
    "        elif char in current_nodes:\n",
    "            current_nodes = current_nodes[char]\n",
    "        else:\n",
    "            current_nodes[char] = {}\n",
    "            current_nodes = current_nodes[char]\n",
    "    "
   ]
  },
  {
   "cell_type": "code",
   "execution_count": 57,
   "metadata": {},
   "outputs": [
    {
     "data": {
      "text/plain": [
       "{'$': 0}"
      ]
     },
     "execution_count": 57,
     "metadata": {},
     "output_type": "execute_result"
    }
   ],
   "source": [
    "# Should return {'$': 0}\n",
    "\n",
    "# An empty trie is just an empty dict\n",
    "simple_trie = dict()\n",
    "add_string(simple_trie, '$', 0)\n",
    "simple_trie"
   ]
  },
  {
   "cell_type": "code",
   "execution_count": 58,
   "metadata": {},
   "outputs": [
    {
     "data": {
      "text/plain": [
       "{'a': {'b': {'a': {'$': 0}}, '$': 2}, 'b': {'a': {'$': 1}}, '$': 3}"
      ]
     },
     "execution_count": 58,
     "metadata": {},
     "output_type": "execute_result"
    }
   ],
   "source": [
    "# Should return\n",
    "# {'a': {'b': {'a': {'$': 0}}, '$': 2}, 'b': {'a': {'$': 1}}, '$': 3}\n",
    "\n",
    "# An empty trie is just an empty dict\n",
    "aba_trie = dict()\n",
    "add_string(aba_trie, 'aba$',0)\n",
    "add_string(aba_trie, 'ba$',1)\n",
    "add_string(aba_trie, 'a$',2)\n",
    "add_string(aba_trie, '$',3)\n",
    "aba_trie"
   ]
  },
  {
   "cell_type": "code",
   "execution_count": 59,
   "metadata": {},
   "outputs": [
    {
     "data": {
      "image/svg+xml": [
       "<?xml version=\"1.0\" encoding=\"UTF-8\" standalone=\"no\"?>\n",
       "<!DOCTYPE svg PUBLIC \"-//W3C//DTD SVG 1.1//EN\"\n",
       " \"http://www.w3.org/Graphics/SVG/1.1/DTD/svg11.dtd\">\n",
       "<!-- Generated by graphviz version 2.43.0 (0)\n",
       " -->\n",
       "<!-- Title: Suffix trie Pages: 1 -->\n",
       "<svg width=\"206pt\" height=\"392pt\"\n",
       " viewBox=\"0.00 0.00 206.00 392.00\" xmlns=\"http://www.w3.org/2000/svg\" xmlns:xlink=\"http://www.w3.org/1999/xlink\">\n",
       "<g id=\"graph0\" class=\"graph\" transform=\"scale(1 1) rotate(0) translate(4 388)\">\n",
       "<title>Suffix trie</title>\n",
       "<polygon fill=\"white\" stroke=\"transparent\" points=\"-4,4 -4,-388 202,-388 202,4 -4,4\"/>\n",
       "<!-- 0 -->\n",
       "<g id=\"node1\" class=\"node\">\n",
       "<title>0</title>\n",
       "<ellipse fill=\"none\" stroke=\"black\" cx=\"126\" cy=\"-366\" rx=\"18\" ry=\"18\"/>\n",
       "</g>\n",
       "<!-- 1 -->\n",
       "<g id=\"node2\" class=\"node\">\n",
       "<title>1</title>\n",
       "<ellipse fill=\"none\" stroke=\"black\" cx=\"72\" cy=\"-279\" rx=\"18\" ry=\"18\"/>\n",
       "</g>\n",
       "<!-- 0&#45;&gt;1 -->\n",
       "<g id=\"edge1\" class=\"edge\">\n",
       "<title>0&#45;&gt;1</title>\n",
       "<path fill=\"none\" stroke=\"black\" d=\"M116.59,-350.19C108.39,-337.27 96.34,-318.31 86.83,-303.34\"/>\n",
       "<polygon fill=\"black\" stroke=\"black\" points=\"89.61,-301.2 81.3,-294.64 83.71,-304.95 89.61,-301.2\"/>\n",
       "<text text-anchor=\"middle\" x=\"109.5\" y=\"-318.8\" font-family=\"Times,serif\" font-size=\"14.00\"> a</text>\n",
       "</g>\n",
       "<!-- 6 -->\n",
       "<g id=\"node7\" class=\"node\">\n",
       "<title>6</title>\n",
       "<ellipse fill=\"none\" stroke=\"black\" cx=\"126\" cy=\"-279\" rx=\"18\" ry=\"18\"/>\n",
       "</g>\n",
       "<!-- 0&#45;&gt;6 -->\n",
       "<g id=\"edge6\" class=\"edge\">\n",
       "<title>0&#45;&gt;6</title>\n",
       "<path fill=\"none\" stroke=\"black\" d=\"M126,-347.8C126,-336.16 126,-320.55 126,-307.24\"/>\n",
       "<polygon fill=\"black\" stroke=\"black\" points=\"129.5,-307.18 126,-297.18 122.5,-307.18 129.5,-307.18\"/>\n",
       "<text text-anchor=\"middle\" x=\"133\" y=\"-318.8\" font-family=\"Times,serif\" font-size=\"14.00\"> b</text>\n",
       "</g>\n",
       "<!-- 9 -->\n",
       "<g id=\"node10\" class=\"node\">\n",
       "<title>9</title>\n",
       "<ellipse fill=\"none\" stroke=\"black\" cx=\"180\" cy=\"-279\" rx=\"18\" ry=\"18\"/>\n",
       "<text text-anchor=\"middle\" x=\"180\" y=\"-275.3\" font-family=\"Times,serif\" font-size=\"14.00\">3</text>\n",
       "</g>\n",
       "<!-- 0&#45;&gt;9 -->\n",
       "<g id=\"edge9\" class=\"edge\">\n",
       "<title>0&#45;&gt;9</title>\n",
       "<path fill=\"none\" stroke=\"black\" d=\"M135.41,-350.19C143.61,-337.27 155.66,-318.31 165.17,-303.34\"/>\n",
       "<polygon fill=\"black\" stroke=\"black\" points=\"168.29,-304.95 170.7,-294.64 162.39,-301.2 168.29,-304.95\"/>\n",
       "<text text-anchor=\"middle\" x=\"163\" y=\"-318.8\" font-family=\"Times,serif\" font-size=\"14.00\"> $</text>\n",
       "</g>\n",
       "<!-- 2 -->\n",
       "<g id=\"node3\" class=\"node\">\n",
       "<title>2</title>\n",
       "<ellipse fill=\"none\" stroke=\"black\" cx=\"18\" cy=\"-192\" rx=\"18\" ry=\"18\"/>\n",
       "</g>\n",
       "<!-- 1&#45;&gt;2 -->\n",
       "<g id=\"edge2\" class=\"edge\">\n",
       "<title>1&#45;&gt;2</title>\n",
       "<path fill=\"none\" stroke=\"black\" d=\"M62.59,-263.19C54.39,-250.27 42.34,-231.31 32.83,-216.34\"/>\n",
       "<polygon fill=\"black\" stroke=\"black\" points=\"35.61,-214.2 27.3,-207.64 29.71,-217.95 35.61,-214.2\"/>\n",
       "<text text-anchor=\"middle\" x=\"56\" y=\"-231.8\" font-family=\"Times,serif\" font-size=\"14.00\"> b</text>\n",
       "</g>\n",
       "<!-- 5 -->\n",
       "<g id=\"node6\" class=\"node\">\n",
       "<title>5</title>\n",
       "<ellipse fill=\"none\" stroke=\"black\" cx=\"72\" cy=\"-192\" rx=\"18\" ry=\"18\"/>\n",
       "<text text-anchor=\"middle\" x=\"72\" y=\"-188.3\" font-family=\"Times,serif\" font-size=\"14.00\">2</text>\n",
       "</g>\n",
       "<!-- 1&#45;&gt;5 -->\n",
       "<g id=\"edge5\" class=\"edge\">\n",
       "<title>1&#45;&gt;5</title>\n",
       "<path fill=\"none\" stroke=\"black\" d=\"M72,-260.8C72,-249.16 72,-233.55 72,-220.24\"/>\n",
       "<polygon fill=\"black\" stroke=\"black\" points=\"75.5,-220.18 72,-210.18 68.5,-220.18 75.5,-220.18\"/>\n",
       "<text text-anchor=\"middle\" x=\"79\" y=\"-231.8\" font-family=\"Times,serif\" font-size=\"14.00\"> $</text>\n",
       "</g>\n",
       "<!-- 3 -->\n",
       "<g id=\"node4\" class=\"node\">\n",
       "<title>3</title>\n",
       "<ellipse fill=\"none\" stroke=\"black\" cx=\"18\" cy=\"-105\" rx=\"18\" ry=\"18\"/>\n",
       "</g>\n",
       "<!-- 2&#45;&gt;3 -->\n",
       "<g id=\"edge3\" class=\"edge\">\n",
       "<title>2&#45;&gt;3</title>\n",
       "<path fill=\"none\" stroke=\"black\" d=\"M18,-173.8C18,-162.16 18,-146.55 18,-133.24\"/>\n",
       "<polygon fill=\"black\" stroke=\"black\" points=\"21.5,-133.18 18,-123.18 14.5,-133.18 21.5,-133.18\"/>\n",
       "<text text-anchor=\"middle\" x=\"24.5\" y=\"-144.8\" font-family=\"Times,serif\" font-size=\"14.00\"> a</text>\n",
       "</g>\n",
       "<!-- 4 -->\n",
       "<g id=\"node5\" class=\"node\">\n",
       "<title>4</title>\n",
       "<ellipse fill=\"none\" stroke=\"black\" cx=\"18\" cy=\"-18\" rx=\"18\" ry=\"18\"/>\n",
       "<text text-anchor=\"middle\" x=\"18\" y=\"-14.3\" font-family=\"Times,serif\" font-size=\"14.00\">0</text>\n",
       "</g>\n",
       "<!-- 3&#45;&gt;4 -->\n",
       "<g id=\"edge4\" class=\"edge\">\n",
       "<title>3&#45;&gt;4</title>\n",
       "<path fill=\"none\" stroke=\"black\" d=\"M18,-86.8C18,-75.16 18,-59.55 18,-46.24\"/>\n",
       "<polygon fill=\"black\" stroke=\"black\" points=\"21.5,-46.18 18,-36.18 14.5,-46.18 21.5,-46.18\"/>\n",
       "<text text-anchor=\"middle\" x=\"25\" y=\"-57.8\" font-family=\"Times,serif\" font-size=\"14.00\"> $</text>\n",
       "</g>\n",
       "<!-- 7 -->\n",
       "<g id=\"node8\" class=\"node\">\n",
       "<title>7</title>\n",
       "<ellipse fill=\"none\" stroke=\"black\" cx=\"126\" cy=\"-192\" rx=\"18\" ry=\"18\"/>\n",
       "</g>\n",
       "<!-- 6&#45;&gt;7 -->\n",
       "<g id=\"edge7\" class=\"edge\">\n",
       "<title>6&#45;&gt;7</title>\n",
       "<path fill=\"none\" stroke=\"black\" d=\"M126,-260.8C126,-249.16 126,-233.55 126,-220.24\"/>\n",
       "<polygon fill=\"black\" stroke=\"black\" points=\"129.5,-220.18 126,-210.18 122.5,-220.18 129.5,-220.18\"/>\n",
       "<text text-anchor=\"middle\" x=\"132.5\" y=\"-231.8\" font-family=\"Times,serif\" font-size=\"14.00\"> a</text>\n",
       "</g>\n",
       "<!-- 8 -->\n",
       "<g id=\"node9\" class=\"node\">\n",
       "<title>8</title>\n",
       "<ellipse fill=\"none\" stroke=\"black\" cx=\"126\" cy=\"-105\" rx=\"18\" ry=\"18\"/>\n",
       "<text text-anchor=\"middle\" x=\"126\" y=\"-101.3\" font-family=\"Times,serif\" font-size=\"14.00\">1</text>\n",
       "</g>\n",
       "<!-- 7&#45;&gt;8 -->\n",
       "<g id=\"edge8\" class=\"edge\">\n",
       "<title>7&#45;&gt;8</title>\n",
       "<path fill=\"none\" stroke=\"black\" d=\"M126,-173.8C126,-162.16 126,-146.55 126,-133.24\"/>\n",
       "<polygon fill=\"black\" stroke=\"black\" points=\"129.5,-133.18 126,-123.18 122.5,-133.18 129.5,-133.18\"/>\n",
       "<text text-anchor=\"middle\" x=\"133\" y=\"-144.8\" font-family=\"Times,serif\" font-size=\"14.00\"> $</text>\n",
       "</g>\n",
       "</g>\n",
       "</svg>\n"
      ],
      "text/plain": [
       "<graphviz.files.Source at 0x7f4cc4b7b8e0>"
      ]
     },
     "execution_count": 59,
     "metadata": {},
     "output_type": "execute_result"
    }
   ],
   "source": [
    "draw_trie(aba_trie)"
   ]
  },
  {
   "cell_type": "code",
   "execution_count": 60,
   "metadata": {},
   "outputs": [
    {
     "data": {
      "text/plain": [
       "{'a': {'n': {'a': {'n': {'a': {'$': 1}}, '$': 3}}, '$': 5}, '$': 6}"
      ]
     },
     "execution_count": 60,
     "metadata": {},
     "output_type": "execute_result"
    }
   ],
   "source": [
    "test_trie = dict()\n",
    "add_string(test_trie, 'anana$',1)\n",
    "add_string(test_trie, 'ana$',3)\n",
    "add_string(test_trie, 'a$',5)\n",
    "add_string(test_trie, '$',6)\n",
    "# We haven't added all the suffixes, but this trie will still work for display\n",
    "# should return {'a': {'n': {'a': {'n': {'a': {'$': 1}}, '$': 3}}, '$': 5}, '$': 6}\n",
    "test_trie"
   ]
  },
  {
   "cell_type": "code",
   "execution_count": 61,
   "metadata": {},
   "outputs": [
    {
     "data": {
      "text/plain": [
       "2"
      ]
     },
     "execution_count": 61,
     "metadata": {},
     "output_type": "execute_result"
    }
   ],
   "source": [
    "# Only top-level edges are 'a' and '$'\n",
    "len(test_trie)"
   ]
  },
  {
   "cell_type": "markdown",
   "metadata": {},
   "source": [
    "**Exercise 4:**\n",
    "\n",
    "Use your `suffixes()` generator function and your `add_string()` function to build a suffix trie."
   ]
  },
  {
   "cell_type": "code",
   "execution_count": 65,
   "metadata": {},
   "outputs": [],
   "source": [
    "def suffix_trie(text):\n",
    "    ''' \n",
    "    Given a text string, return the suffix trie.\n",
    "    '''\n",
    "    trie = {}\n",
    "    locations_substrings = suffixes(text)\n",
    " \n",
    "    for value, keystring in locations_substrings:\n",
    "            add_string(trie, keystring, value)\n",
    "            \n",
    "    return trie\n",
    "    "
   ]
  },
  {
   "cell_type": "code",
   "execution_count": 66,
   "metadata": {},
   "outputs": [
    {
     "data": {
      "text/plain": [
       "{'a': {'b': {'a': {'$': 0}}, '$': 2}, 'b': {'a': {'$': 1}}, '$': 3}"
      ]
     },
     "execution_count": 66,
     "metadata": {},
     "output_type": "execute_result"
    }
   ],
   "source": [
    "# {'a': {'b': {'a': {'$': 0}}, '$': 2}, 'b': {'a': {'$': 1}}, '$': 3}\n",
    "suffix_trie('aba')"
   ]
  },
  {
   "cell_type": "code",
   "execution_count": 67,
   "metadata": {},
   "outputs": [
    {
     "data": {
      "text/plain": [
       "{'b': {'a': {'n': {'a': {'n': {'a': {'$': 0}}}}}},\n",
       " 'a': {'n': {'a': {'n': {'a': {'$': 1}}, '$': 3}}, '$': 5},\n",
       " 'n': {'a': {'n': {'a': {'$': 2}}, '$': 4}},\n",
       " '$': 6}"
      ]
     },
     "execution_count": 67,
     "metadata": {},
     "output_type": "execute_result"
    }
   ],
   "source": [
    "suffix_trie('banana')"
   ]
  },
  {
   "cell_type": "code",
   "execution_count": 68,
   "metadata": {},
   "outputs": [
    {
     "data": {
      "image/svg+xml": [
       "<?xml version=\"1.0\" encoding=\"UTF-8\" standalone=\"no\"?>\n",
       "<!DOCTYPE svg PUBLIC \"-//W3C//DTD SVG 1.1//EN\"\n",
       " \"http://www.w3.org/Graphics/SVG/1.1/DTD/svg11.dtd\">\n",
       "<!-- Generated by graphviz version 2.43.0 (0)\n",
       " -->\n",
       "<!-- Title: Suffix trie Pages: 1 -->\n",
       "<svg width=\"260pt\" height=\"653pt\"\n",
       " viewBox=\"0.00 0.00 260.00 653.00\" xmlns=\"http://www.w3.org/2000/svg\" xmlns:xlink=\"http://www.w3.org/1999/xlink\">\n",
       "<g id=\"graph0\" class=\"graph\" transform=\"scale(1 1) rotate(0) translate(4 649)\">\n",
       "<title>Suffix trie</title>\n",
       "<polygon fill=\"white\" stroke=\"transparent\" points=\"-4,4 -4,-649 256,-649 256,4 -4,4\"/>\n",
       "<!-- 0 -->\n",
       "<g id=\"node1\" class=\"node\">\n",
       "<title>0</title>\n",
       "<ellipse fill=\"none\" stroke=\"black\" cx=\"130\" cy=\"-627\" rx=\"18\" ry=\"18\"/>\n",
       "</g>\n",
       "<!-- 1 -->\n",
       "<g id=\"node2\" class=\"node\">\n",
       "<title>1</title>\n",
       "<ellipse fill=\"none\" stroke=\"black\" cx=\"37\" cy=\"-540\" rx=\"18\" ry=\"18\"/>\n",
       "</g>\n",
       "<!-- 0&#45;&gt;1 -->\n",
       "<g id=\"edge1\" class=\"edge\">\n",
       "<title>0&#45;&gt;1</title>\n",
       "<path fill=\"none\" stroke=\"black\" d=\"M117.07,-614.18C101.66,-600.1 75.72,-576.39 57.56,-559.79\"/>\n",
       "<polygon fill=\"black\" stroke=\"black\" points=\"59.56,-556.88 49.82,-552.72 54.84,-562.05 59.56,-556.88\"/>\n",
       "<text text-anchor=\"middle\" x=\"97\" y=\"-579.8\" font-family=\"Times,serif\" font-size=\"14.00\"> b</text>\n",
       "</g>\n",
       "<!-- 8 -->\n",
       "<g id=\"node9\" class=\"node\">\n",
       "<title>8</title>\n",
       "<ellipse fill=\"none\" stroke=\"black\" cx=\"104\" cy=\"-540\" rx=\"18\" ry=\"18\"/>\n",
       "</g>\n",
       "<!-- 0&#45;&gt;8 -->\n",
       "<g id=\"edge8\" class=\"edge\">\n",
       "<title>0&#45;&gt;8</title>\n",
       "<path fill=\"none\" stroke=\"black\" d=\"M124.19,-609.68C122.16,-603.82 119.91,-597.13 118,-591 115.64,-583.43 113.25,-575.15 111.13,-567.55\"/>\n",
       "<polygon fill=\"black\" stroke=\"black\" points=\"114.46,-566.45 108.43,-557.74 107.71,-568.31 114.46,-566.45\"/>\n",
       "<text text-anchor=\"middle\" x=\"124.5\" y=\"-579.8\" font-family=\"Times,serif\" font-size=\"14.00\"> a</text>\n",
       "</g>\n",
       "<!-- 16 -->\n",
       "<g id=\"node17\" class=\"node\">\n",
       "<title>16</title>\n",
       "<ellipse fill=\"none\" stroke=\"black\" cx=\"158\" cy=\"-540\" rx=\"18\" ry=\"18\"/>\n",
       "</g>\n",
       "<!-- 0&#45;&gt;16 -->\n",
       "<g id=\"edge16\" class=\"edge\">\n",
       "<title>0&#45;&gt;16</title>\n",
       "<path fill=\"none\" stroke=\"black\" d=\"M135.4,-609.61C139.39,-597.5 144.9,-580.77 149.48,-566.86\"/>\n",
       "<polygon fill=\"black\" stroke=\"black\" points=\"152.81,-567.93 152.62,-557.34 146.16,-565.74 152.81,-567.93\"/>\n",
       "<text text-anchor=\"middle\" x=\"152\" y=\"-579.8\" font-family=\"Times,serif\" font-size=\"14.00\"> n</text>\n",
       "</g>\n",
       "<!-- 22 -->\n",
       "<g id=\"node23\" class=\"node\">\n",
       "<title>22</title>\n",
       "<ellipse fill=\"none\" stroke=\"black\" cx=\"212\" cy=\"-540\" rx=\"18\" ry=\"18\"/>\n",
       "<text text-anchor=\"middle\" x=\"212\" y=\"-536.3\" font-family=\"Times,serif\" font-size=\"14.00\">6</text>\n",
       "</g>\n",
       "<!-- 0&#45;&gt;22 -->\n",
       "<g id=\"edge22\" class=\"edge\">\n",
       "<title>0&#45;&gt;22</title>\n",
       "<path fill=\"none\" stroke=\"black\" d=\"M142.1,-613.46C155.42,-599.65 177.03,-577.25 192.7,-561.01\"/>\n",
       "<polygon fill=\"black\" stroke=\"black\" points=\"195.43,-563.22 199.85,-553.59 190.39,-558.36 195.43,-563.22\"/>\n",
       "<text text-anchor=\"middle\" x=\"182\" y=\"-579.8\" font-family=\"Times,serif\" font-size=\"14.00\"> $</text>\n",
       "</g>\n",
       "<!-- 2 -->\n",
       "<g id=\"node3\" class=\"node\">\n",
       "<title>2</title>\n",
       "<ellipse fill=\"none\" stroke=\"black\" cx=\"18\" cy=\"-453\" rx=\"18\" ry=\"18\"/>\n",
       "</g>\n",
       "<!-- 1&#45;&gt;2 -->\n",
       "<g id=\"edge2\" class=\"edge\">\n",
       "<title>1&#45;&gt;2</title>\n",
       "<path fill=\"none\" stroke=\"black\" d=\"M33.25,-522.21C30.59,-510.33 26.98,-494.17 23.94,-480.56\"/>\n",
       "<polygon fill=\"black\" stroke=\"black\" points=\"27.34,-479.75 21.75,-470.76 20.51,-481.28 27.34,-479.75\"/>\n",
       "<text text-anchor=\"middle\" x=\"35.5\" y=\"-492.8\" font-family=\"Times,serif\" font-size=\"14.00\"> a</text>\n",
       "</g>\n",
       "<!-- 3 -->\n",
       "<g id=\"node4\" class=\"node\">\n",
       "<title>3</title>\n",
       "<ellipse fill=\"none\" stroke=\"black\" cx=\"18\" cy=\"-366\" rx=\"18\" ry=\"18\"/>\n",
       "</g>\n",
       "<!-- 2&#45;&gt;3 -->\n",
       "<g id=\"edge3\" class=\"edge\">\n",
       "<title>2&#45;&gt;3</title>\n",
       "<path fill=\"none\" stroke=\"black\" d=\"M18,-434.8C18,-423.16 18,-407.55 18,-394.24\"/>\n",
       "<polygon fill=\"black\" stroke=\"black\" points=\"21.5,-394.18 18,-384.18 14.5,-394.18 21.5,-394.18\"/>\n",
       "<text text-anchor=\"middle\" x=\"25\" y=\"-405.8\" font-family=\"Times,serif\" font-size=\"14.00\"> n</text>\n",
       "</g>\n",
       "<!-- 4 -->\n",
       "<g id=\"node5\" class=\"node\">\n",
       "<title>4</title>\n",
       "<ellipse fill=\"none\" stroke=\"black\" cx=\"18\" cy=\"-279\" rx=\"18\" ry=\"18\"/>\n",
       "</g>\n",
       "<!-- 3&#45;&gt;4 -->\n",
       "<g id=\"edge4\" class=\"edge\">\n",
       "<title>3&#45;&gt;4</title>\n",
       "<path fill=\"none\" stroke=\"black\" d=\"M18,-347.8C18,-336.16 18,-320.55 18,-307.24\"/>\n",
       "<polygon fill=\"black\" stroke=\"black\" points=\"21.5,-307.18 18,-297.18 14.5,-307.18 21.5,-307.18\"/>\n",
       "<text text-anchor=\"middle\" x=\"24.5\" y=\"-318.8\" font-family=\"Times,serif\" font-size=\"14.00\"> a</text>\n",
       "</g>\n",
       "<!-- 5 -->\n",
       "<g id=\"node6\" class=\"node\">\n",
       "<title>5</title>\n",
       "<ellipse fill=\"none\" stroke=\"black\" cx=\"18\" cy=\"-192\" rx=\"18\" ry=\"18\"/>\n",
       "</g>\n",
       "<!-- 4&#45;&gt;5 -->\n",
       "<g id=\"edge5\" class=\"edge\">\n",
       "<title>4&#45;&gt;5</title>\n",
       "<path fill=\"none\" stroke=\"black\" d=\"M18,-260.8C18,-249.16 18,-233.55 18,-220.24\"/>\n",
       "<polygon fill=\"black\" stroke=\"black\" points=\"21.5,-220.18 18,-210.18 14.5,-220.18 21.5,-220.18\"/>\n",
       "<text text-anchor=\"middle\" x=\"25\" y=\"-231.8\" font-family=\"Times,serif\" font-size=\"14.00\"> n</text>\n",
       "</g>\n",
       "<!-- 6 -->\n",
       "<g id=\"node7\" class=\"node\">\n",
       "<title>6</title>\n",
       "<ellipse fill=\"none\" stroke=\"black\" cx=\"18\" cy=\"-105\" rx=\"18\" ry=\"18\"/>\n",
       "</g>\n",
       "<!-- 5&#45;&gt;6 -->\n",
       "<g id=\"edge6\" class=\"edge\">\n",
       "<title>5&#45;&gt;6</title>\n",
       "<path fill=\"none\" stroke=\"black\" d=\"M18,-173.8C18,-162.16 18,-146.55 18,-133.24\"/>\n",
       "<polygon fill=\"black\" stroke=\"black\" points=\"21.5,-133.18 18,-123.18 14.5,-133.18 21.5,-133.18\"/>\n",
       "<text text-anchor=\"middle\" x=\"24.5\" y=\"-144.8\" font-family=\"Times,serif\" font-size=\"14.00\"> a</text>\n",
       "</g>\n",
       "<!-- 7 -->\n",
       "<g id=\"node8\" class=\"node\">\n",
       "<title>7</title>\n",
       "<ellipse fill=\"none\" stroke=\"black\" cx=\"18\" cy=\"-18\" rx=\"18\" ry=\"18\"/>\n",
       "<text text-anchor=\"middle\" x=\"18\" y=\"-14.3\" font-family=\"Times,serif\" font-size=\"14.00\">0</text>\n",
       "</g>\n",
       "<!-- 6&#45;&gt;7 -->\n",
       "<g id=\"edge7\" class=\"edge\">\n",
       "<title>6&#45;&gt;7</title>\n",
       "<path fill=\"none\" stroke=\"black\" d=\"M18,-86.8C18,-75.16 18,-59.55 18,-46.24\"/>\n",
       "<polygon fill=\"black\" stroke=\"black\" points=\"21.5,-46.18 18,-36.18 14.5,-46.18 21.5,-46.18\"/>\n",
       "<text text-anchor=\"middle\" x=\"25\" y=\"-57.8\" font-family=\"Times,serif\" font-size=\"14.00\"> $</text>\n",
       "</g>\n",
       "<!-- 9 -->\n",
       "<g id=\"node10\" class=\"node\">\n",
       "<title>9</title>\n",
       "<ellipse fill=\"none\" stroke=\"black\" cx=\"72\" cy=\"-453\" rx=\"18\" ry=\"18\"/>\n",
       "</g>\n",
       "<!-- 8&#45;&gt;9 -->\n",
       "<g id=\"edge9\" class=\"edge\">\n",
       "<title>8&#45;&gt;9</title>\n",
       "<path fill=\"none\" stroke=\"black\" d=\"M97.98,-523.01C93.41,-510.86 87.02,-493.9 81.72,-479.83\"/>\n",
       "<polygon fill=\"black\" stroke=\"black\" points=\"84.9,-478.33 78.1,-470.21 78.35,-480.8 84.9,-478.33\"/>\n",
       "<text text-anchor=\"middle\" x=\"97\" y=\"-492.8\" font-family=\"Times,serif\" font-size=\"14.00\"> n</text>\n",
       "</g>\n",
       "<!-- 15 -->\n",
       "<g id=\"node16\" class=\"node\">\n",
       "<title>15</title>\n",
       "<ellipse fill=\"none\" stroke=\"black\" cx=\"126\" cy=\"-453\" rx=\"18\" ry=\"18\"/>\n",
       "<text text-anchor=\"middle\" x=\"126\" y=\"-449.3\" font-family=\"Times,serif\" font-size=\"14.00\">5</text>\n",
       "</g>\n",
       "<!-- 8&#45;&gt;15 -->\n",
       "<g id=\"edge15\" class=\"edge\">\n",
       "<title>8&#45;&gt;15</title>\n",
       "<path fill=\"none\" stroke=\"black\" d=\"M108.35,-522.21C111.42,-510.33 115.6,-494.17 119.13,-480.56\"/>\n",
       "<polygon fill=\"black\" stroke=\"black\" points=\"122.55,-481.32 121.66,-470.76 115.77,-479.56 122.55,-481.32\"/>\n",
       "<text text-anchor=\"middle\" x=\"123\" y=\"-492.8\" font-family=\"Times,serif\" font-size=\"14.00\"> $</text>\n",
       "</g>\n",
       "<!-- 10 -->\n",
       "<g id=\"node11\" class=\"node\">\n",
       "<title>10</title>\n",
       "<ellipse fill=\"none\" stroke=\"black\" cx=\"72\" cy=\"-366\" rx=\"18\" ry=\"18\"/>\n",
       "</g>\n",
       "<!-- 9&#45;&gt;10 -->\n",
       "<g id=\"edge10\" class=\"edge\">\n",
       "<title>9&#45;&gt;10</title>\n",
       "<path fill=\"none\" stroke=\"black\" d=\"M72,-434.8C72,-423.16 72,-407.55 72,-394.24\"/>\n",
       "<polygon fill=\"black\" stroke=\"black\" points=\"75.5,-394.18 72,-384.18 68.5,-394.18 75.5,-394.18\"/>\n",
       "<text text-anchor=\"middle\" x=\"78.5\" y=\"-405.8\" font-family=\"Times,serif\" font-size=\"14.00\"> a</text>\n",
       "</g>\n",
       "<!-- 11 -->\n",
       "<g id=\"node12\" class=\"node\">\n",
       "<title>11</title>\n",
       "<ellipse fill=\"none\" stroke=\"black\" cx=\"72\" cy=\"-279\" rx=\"18\" ry=\"18\"/>\n",
       "</g>\n",
       "<!-- 10&#45;&gt;11 -->\n",
       "<g id=\"edge11\" class=\"edge\">\n",
       "<title>10&#45;&gt;11</title>\n",
       "<path fill=\"none\" stroke=\"black\" d=\"M72,-347.8C72,-336.16 72,-320.55 72,-307.24\"/>\n",
       "<polygon fill=\"black\" stroke=\"black\" points=\"75.5,-307.18 72,-297.18 68.5,-307.18 75.5,-307.18\"/>\n",
       "<text text-anchor=\"middle\" x=\"79\" y=\"-318.8\" font-family=\"Times,serif\" font-size=\"14.00\"> n</text>\n",
       "</g>\n",
       "<!-- 14 -->\n",
       "<g id=\"node15\" class=\"node\">\n",
       "<title>14</title>\n",
       "<ellipse fill=\"none\" stroke=\"black\" cx=\"126\" cy=\"-279\" rx=\"18\" ry=\"18\"/>\n",
       "<text text-anchor=\"middle\" x=\"126\" y=\"-275.3\" font-family=\"Times,serif\" font-size=\"14.00\">3</text>\n",
       "</g>\n",
       "<!-- 10&#45;&gt;14 -->\n",
       "<g id=\"edge14\" class=\"edge\">\n",
       "<title>10&#45;&gt;14</title>\n",
       "<path fill=\"none\" stroke=\"black\" d=\"M81.41,-350.19C89.61,-337.27 101.66,-318.31 111.17,-303.34\"/>\n",
       "<polygon fill=\"black\" stroke=\"black\" points=\"114.29,-304.95 116.7,-294.64 108.39,-301.2 114.29,-304.95\"/>\n",
       "<text text-anchor=\"middle\" x=\"109\" y=\"-318.8\" font-family=\"Times,serif\" font-size=\"14.00\"> $</text>\n",
       "</g>\n",
       "<!-- 12 -->\n",
       "<g id=\"node13\" class=\"node\">\n",
       "<title>12</title>\n",
       "<ellipse fill=\"none\" stroke=\"black\" cx=\"72\" cy=\"-192\" rx=\"18\" ry=\"18\"/>\n",
       "</g>\n",
       "<!-- 11&#45;&gt;12 -->\n",
       "<g id=\"edge12\" class=\"edge\">\n",
       "<title>11&#45;&gt;12</title>\n",
       "<path fill=\"none\" stroke=\"black\" d=\"M72,-260.8C72,-249.16 72,-233.55 72,-220.24\"/>\n",
       "<polygon fill=\"black\" stroke=\"black\" points=\"75.5,-220.18 72,-210.18 68.5,-220.18 75.5,-220.18\"/>\n",
       "<text text-anchor=\"middle\" x=\"78.5\" y=\"-231.8\" font-family=\"Times,serif\" font-size=\"14.00\"> a</text>\n",
       "</g>\n",
       "<!-- 13 -->\n",
       "<g id=\"node14\" class=\"node\">\n",
       "<title>13</title>\n",
       "<ellipse fill=\"none\" stroke=\"black\" cx=\"72\" cy=\"-105\" rx=\"18\" ry=\"18\"/>\n",
       "<text text-anchor=\"middle\" x=\"72\" y=\"-101.3\" font-family=\"Times,serif\" font-size=\"14.00\">1</text>\n",
       "</g>\n",
       "<!-- 12&#45;&gt;13 -->\n",
       "<g id=\"edge13\" class=\"edge\">\n",
       "<title>12&#45;&gt;13</title>\n",
       "<path fill=\"none\" stroke=\"black\" d=\"M72,-173.8C72,-162.16 72,-146.55 72,-133.24\"/>\n",
       "<polygon fill=\"black\" stroke=\"black\" points=\"75.5,-133.18 72,-123.18 68.5,-133.18 75.5,-133.18\"/>\n",
       "<text text-anchor=\"middle\" x=\"79\" y=\"-144.8\" font-family=\"Times,serif\" font-size=\"14.00\"> $</text>\n",
       "</g>\n",
       "<!-- 17 -->\n",
       "<g id=\"node18\" class=\"node\">\n",
       "<title>17</title>\n",
       "<ellipse fill=\"none\" stroke=\"black\" cx=\"180\" cy=\"-453\" rx=\"18\" ry=\"18\"/>\n",
       "</g>\n",
       "<!-- 16&#45;&gt;17 -->\n",
       "<g id=\"edge17\" class=\"edge\">\n",
       "<title>16&#45;&gt;17</title>\n",
       "<path fill=\"none\" stroke=\"black\" d=\"M162.35,-522.21C165.42,-510.33 169.6,-494.17 173.13,-480.56\"/>\n",
       "<polygon fill=\"black\" stroke=\"black\" points=\"176.55,-481.32 175.66,-470.76 169.77,-479.56 176.55,-481.32\"/>\n",
       "<text text-anchor=\"middle\" x=\"176.5\" y=\"-492.8\" font-family=\"Times,serif\" font-size=\"14.00\"> a</text>\n",
       "</g>\n",
       "<!-- 18 -->\n",
       "<g id=\"node19\" class=\"node\">\n",
       "<title>18</title>\n",
       "<ellipse fill=\"none\" stroke=\"black\" cx=\"180\" cy=\"-366\" rx=\"18\" ry=\"18\"/>\n",
       "</g>\n",
       "<!-- 17&#45;&gt;18 -->\n",
       "<g id=\"edge18\" class=\"edge\">\n",
       "<title>17&#45;&gt;18</title>\n",
       "<path fill=\"none\" stroke=\"black\" d=\"M180,-434.8C180,-423.16 180,-407.55 180,-394.24\"/>\n",
       "<polygon fill=\"black\" stroke=\"black\" points=\"183.5,-394.18 180,-384.18 176.5,-394.18 183.5,-394.18\"/>\n",
       "<text text-anchor=\"middle\" x=\"187\" y=\"-405.8\" font-family=\"Times,serif\" font-size=\"14.00\"> n</text>\n",
       "</g>\n",
       "<!-- 21 -->\n",
       "<g id=\"node22\" class=\"node\">\n",
       "<title>21</title>\n",
       "<ellipse fill=\"none\" stroke=\"black\" cx=\"234\" cy=\"-366\" rx=\"18\" ry=\"18\"/>\n",
       "<text text-anchor=\"middle\" x=\"234\" y=\"-362.3\" font-family=\"Times,serif\" font-size=\"14.00\">4</text>\n",
       "</g>\n",
       "<!-- 17&#45;&gt;21 -->\n",
       "<g id=\"edge21\" class=\"edge\">\n",
       "<title>17&#45;&gt;21</title>\n",
       "<path fill=\"none\" stroke=\"black\" d=\"M189.41,-437.19C197.61,-424.27 209.66,-405.31 219.17,-390.34\"/>\n",
       "<polygon fill=\"black\" stroke=\"black\" points=\"222.29,-391.95 224.7,-381.64 216.39,-388.2 222.29,-391.95\"/>\n",
       "<text text-anchor=\"middle\" x=\"217\" y=\"-405.8\" font-family=\"Times,serif\" font-size=\"14.00\"> $</text>\n",
       "</g>\n",
       "<!-- 19 -->\n",
       "<g id=\"node20\" class=\"node\">\n",
       "<title>19</title>\n",
       "<ellipse fill=\"none\" stroke=\"black\" cx=\"180\" cy=\"-279\" rx=\"18\" ry=\"18\"/>\n",
       "</g>\n",
       "<!-- 18&#45;&gt;19 -->\n",
       "<g id=\"edge19\" class=\"edge\">\n",
       "<title>18&#45;&gt;19</title>\n",
       "<path fill=\"none\" stroke=\"black\" d=\"M180,-347.8C180,-336.16 180,-320.55 180,-307.24\"/>\n",
       "<polygon fill=\"black\" stroke=\"black\" points=\"183.5,-307.18 180,-297.18 176.5,-307.18 183.5,-307.18\"/>\n",
       "<text text-anchor=\"middle\" x=\"186.5\" y=\"-318.8\" font-family=\"Times,serif\" font-size=\"14.00\"> a</text>\n",
       "</g>\n",
       "<!-- 20 -->\n",
       "<g id=\"node21\" class=\"node\">\n",
       "<title>20</title>\n",
       "<ellipse fill=\"none\" stroke=\"black\" cx=\"180\" cy=\"-192\" rx=\"18\" ry=\"18\"/>\n",
       "<text text-anchor=\"middle\" x=\"180\" y=\"-188.3\" font-family=\"Times,serif\" font-size=\"14.00\">2</text>\n",
       "</g>\n",
       "<!-- 19&#45;&gt;20 -->\n",
       "<g id=\"edge20\" class=\"edge\">\n",
       "<title>19&#45;&gt;20</title>\n",
       "<path fill=\"none\" stroke=\"black\" d=\"M180,-260.8C180,-249.16 180,-233.55 180,-220.24\"/>\n",
       "<polygon fill=\"black\" stroke=\"black\" points=\"183.5,-220.18 180,-210.18 176.5,-220.18 183.5,-220.18\"/>\n",
       "<text text-anchor=\"middle\" x=\"187\" y=\"-231.8\" font-family=\"Times,serif\" font-size=\"14.00\"> $</text>\n",
       "</g>\n",
       "</g>\n",
       "</svg>\n"
      ],
      "text/plain": [
       "<graphviz.files.Source at 0x7f4cc4b7b700>"
      ]
     },
     "execution_count": 68,
     "metadata": {},
     "output_type": "execute_result"
    }
   ],
   "source": [
    "banana_trie = suffix_trie('banana')\n",
    "draw_trie(banana_trie)"
   ]
  },
  {
   "cell_type": "markdown",
   "metadata": {},
   "source": [
    "**Exercise 5:**\n",
    "\n",
    "Write a function which returns True if a query string is in the genome represented by a suffix trie, and False if it is not. Remember we don't need to get to a leaf node, as it's ok if our query string is the prefix of one of the suffixes in a trie."
   ]
  },
  {
   "cell_type": "code",
   "execution_count": null,
   "metadata": {},
   "outputs": [],
   "source": [
    "def query_trie_for_existence(trie, keystring):\n",
    "    '''\n",
    "    Given a dict representing a suffix trie, and a key string,\n",
    "    return True if the key string is a prefix of any suffix in the trie,\n",
    "    and False otherwise.\n",
    "    '''\n",
    "    "
   ]
  },
  {
   "cell_type": "code",
   "execution_count": null,
   "metadata": {},
   "outputs": [],
   "source": [
    "# True\n",
    "query_trie_for_existence(banana_trie, 'ana')"
   ]
  },
  {
   "cell_type": "code",
   "execution_count": null,
   "metadata": {},
   "outputs": [],
   "source": [
    "# False\n",
    "query_trie_for_existence(banana_trie, 'anab')"
   ]
  },
  {
   "cell_type": "code",
   "execution_count": null,
   "metadata": {},
   "outputs": [],
   "source": [
    "# True\n",
    "text2_trie = suffix_trie(text2)\n",
    "query_trie_for_existence(text2_trie, 'GATCGC')"
   ]
  },
  {
   "cell_type": "code",
   "execution_count": null,
   "metadata": {},
   "outputs": [],
   "source": [
    "# False\n",
    "query_trie_for_existence(text2_trie, 'GAGCGC')"
   ]
  },
  {
   "cell_type": "markdown",
   "metadata": {},
   "source": [
    "**Exercise 6 (challenge):**\n",
    "\n",
    "Write a function which queries a suffix trie and returns either `None` (if the string is not in the trie at all) or a list of genomic coordinates (if it is).\n",
    "\n",
    "To find all coordinates in the subtree of a given node, we need to carry out a depth-first search. To make this challenge a bit easier, you can import this function from trie_utilities with `from trie_utilities import get_leaf_values()`, which implements depth-first search, or you can write it yourself."
   ]
  },
  {
   "cell_type": "code",
   "execution_count": null,
   "metadata": {},
   "outputs": [],
   "source": [
    "# uncomment to use this supplied function\n",
    "#from trie_utilities import get_leaf_values\n",
    "\n",
    "def query_trie(trie, keystring):\n",
    "    '''\n",
    "    Query given trie for keystring.\n",
    "    If it is not found, return None.\n",
    "    If it is found, return the list of genomic coordinates indexed by it.\n",
    "    '''\n",
    "    "
   ]
  },
  {
   "cell_type": "code",
   "execution_count": null,
   "metadata": {},
   "outputs": [],
   "source": [
    "banana_trie = suffix_trie('banana')"
   ]
  },
  {
   "cell_type": "code",
   "execution_count": null,
   "metadata": {},
   "outputs": [],
   "source": [
    "# [1, 3] (in any order)\n",
    "query_trie(banana_trie, 'an')"
   ]
  },
  {
   "cell_type": "code",
   "execution_count": null,
   "metadata": {},
   "outputs": [],
   "source": [
    "draw_trie(banana_trie)"
   ]
  },
  {
   "cell_type": "code",
   "execution_count": null,
   "metadata": {},
   "outputs": [],
   "source": [
    "phiX_trie = suffix_trie(phiX)"
   ]
  },
  {
   "cell_type": "code",
   "execution_count": null,
   "metadata": {},
   "outputs": [],
   "source": [
    "# [6, 64, 346, 148, 42, 439, 709, 638, 619, 248, 282, 566, 641, 940]\n",
    "query_trie(phiX_trie, 'TAT')"
   ]
  },
  {
   "cell_type": "code",
   "execution_count": null,
   "metadata": {},
   "outputs": [],
   "source": [
    "# [42]\n",
    "query_trie(phiX_trie, 'TATTT')"
   ]
  },
  {
   "cell_type": "code",
   "execution_count": null,
   "metadata": {},
   "outputs": [],
   "source": [
    "# Does not exist in text\n",
    "query_trie(phiX_trie, 'TATGGG')"
   ]
  },
  {
   "cell_type": "code",
   "execution_count": null,
   "metadata": {},
   "outputs": [],
   "source": []
  }
 ],
 "metadata": {
  "kernelspec": {
   "display_name": "Python 3",
   "language": "python",
   "name": "python3"
  },
  "language_info": {
   "codemirror_mode": {
    "name": "ipython",
    "version": 3
   },
   "file_extension": ".py",
   "mimetype": "text/x-python",
   "name": "python",
   "nbconvert_exporter": "python",
   "pygments_lexer": "ipython3",
   "version": "3.8.2"
  }
 },
 "nbformat": 4,
 "nbformat_minor": 4
}
