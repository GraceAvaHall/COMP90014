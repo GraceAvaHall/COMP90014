{
 "cells": [
  {
   "cell_type": "markdown",
   "metadata": {},
   "source": [
    "# Week 7 lab - de novo assembly with De Bruijn graphs"
   ]
  },
  {
   "cell_type": "markdown",
   "metadata": {},
   "source": [
    "For this week's lab you'll be writing programs to count k-mers and to find the edges of a de Bruijn graph.\n",
    "\n",
    "As a reminder, we have a relevant tutorial document intended for those new to programming or learning Python: [kmer-counting tutorial](kmer_counting.ipynb). The first couple of challenges below are covered (more gently) in this tutorial. By now you have probably already learned the programming concepts in the tutorial, but you might still find it worth looking at the _Dictionaries: algorithmic considerations_ section. "
   ]
  },
  {
   "cell_type": "markdown",
   "metadata": {},
   "source": [
    "## KMER SIZE\n",
    "Kmer size has a large impact on overall assembly quality.  <br>\n",
    "The effect of this can be seen here: \n",
    "https://github.com/rrwick/Bandage/wiki/Effect-of-kmer-size\n",
    "<br>\n",
    "Today we will just work with small strings and small k, but keep this in mind for the future. "
   ]
  },
  {
   "cell_type": "markdown",
   "metadata": {},
   "source": [
    "## Data "
   ]
  },
  {
   "cell_type": "markdown",
   "metadata": {},
   "source": [
    "We'll define some toy \"reads\" from English strings, which you can use to see your functions in action."
   ]
  },
  {
   "cell_type": "code",
   "execution_count": 1,
   "metadata": {},
   "outputs": [
    {
     "data": {
      "text/plain": [
       "['ters_no',\n",
       " 'ers_not',\n",
       " 'matners',\n",
       " 'size_ma',\n",
       " 'tters_',\n",
       " 'atters_n',\n",
       " 'size_m',\n",
       " 'e_matter']"
      ]
     },
     "execution_count": 1,
     "metadata": {},
     "output_type": "execute_result"
    }
   ],
   "source": [
    "yoda_reads = '''\n",
    "ters_no\n",
    "ers_not\n",
    "matners\n",
    "size_ma\n",
    "tters_\n",
    "atters_n\n",
    "size_m\n",
    "e_matter'''.strip().split(\"\\n\")\n",
    "yoda_reads"
   ]
  },
  {
   "cell_type": "code",
   "execution_count": 2,
   "metadata": {},
   "outputs": [],
   "source": [
    "caesar_reads = '''\n",
    "_your_e\n",
    "l,nd_me\n",
    "nd_me_y\n",
    "d_me_y\n",
    "omans,_\n",
    "s,_coun\n",
    "me_you\n",
    "eids,_\n",
    "mans,_c\n",
    "our_ea\n",
    "'''.strip().split(\"\\n\")"
   ]
  },
  {
   "cell_type": "code",
   "execution_count": 3,
   "metadata": {},
   "outputs": [],
   "source": [
    "# a version with no read errors\n",
    "caesar_reads_perfect = '''\n",
    "me_your_e\n",
    "ymen,_len\n",
    "_your_e\n",
    "ds,_Roma\n",
    "nds,_Roma\n",
    "trymen,_\n",
    "lend_me_\n",
    "omans,_co\n",
    "n,_lend_\n",
    "riends,_R\n",
    "ntrymen\n",
    ",_country\n",
    "e_your_ears\n",
    "untryme\n",
    "riends,_\n",
    "'''.strip().split(\"\\n\")"
   ]
  },
  {
   "cell_type": "markdown",
   "metadata": {},
   "source": [
    "And some error-free \"reads\" from a very small tRNA gene:"
   ]
  },
  {
   "cell_type": "code",
   "execution_count": 4,
   "metadata": {},
   "outputs": [],
   "source": [
    "mt_te_reads = '''TGTAGTTGAAATACAACGAT\n",
    "GGTCGTGGTTGTAGTCCGTGC\n",
    "TGGTCGTGGTTGTAGTCCG\n",
    "TATCATTGGTCGTGGTTGTAG\n",
    "TTGTAGTTGAAATACAACGAT\n",
    "ATCATTGGTCGTGGTTGTAG\n",
    "ATGGTTTTTCATATCATTGG\n",
    "GGTTTTTCATATCATTGGTCGT\n",
    "GGTCGTGGTTGTAGTCCGT\n",
    "TCATTGGTCGTGGTTGTAGTCC\n",
    "GGTCGTGGTTGTAGTCCGTGCG\n",
    "GATGGTTTTTCATATCATT\n",
    "TGGTCGTGGTTGTAGTCC\n",
    "AACGATGGTTTTTCATATCA\n",
    "GGTTTTTCATATCATTGGTCG\n",
    "GTTTTTCATATCATTGGTCGTG\n",
    "ATTGGTCGTGGTTGTAGTCCGT\n",
    "AACGATGGTTTTTCATAT\n",
    "GTTTTTCATATCATTGGT\n",
    "AACGATGGTTTTTCATAT'''.strip().split()"
   ]
  },
  {
   "cell_type": "markdown",
   "metadata": {},
   "source": [
    "## Counting k-mers "
   ]
  },
  {
   "cell_type": "markdown",
   "metadata": {},
   "source": [
    "**Exercise 1:**\n",
    "\n",
    "Complete the function below to return all the k-mers from a given string. "
   ]
  },
  {
   "cell_type": "code",
   "execution_count": 5,
   "metadata": {},
   "outputs": [],
   "source": [
    "def get_string_kmers(read, k):\n",
    "    '''\n",
    "    Return a set of all k-mers of length k from string read.\n",
    "    '''\n",
    "    kmers = set()\n",
    "    for i in range(len(read) - k + 1):\n",
    "        kmer = read[i:i + k]\n",
    "        kmers.add(kmer)\n",
    "    return kmers\n",
    "        \n",
    "    \n",
    "    "
   ]
  },
  {
   "cell_type": "code",
   "execution_count": 6,
   "metadata": {},
   "outputs": [
    {
     "data": {
      "text/plain": [
       "{'_yo', 'our', 'r_e', 'ur_', 'you'}"
      ]
     },
     "execution_count": 6,
     "metadata": {},
     "output_type": "execute_result"
    }
   ],
   "source": [
    "# Should return {'_yo', 'our', 'r_e', 'ur_', 'you'}\n",
    "get_string_kmers(caesar_reads[0], 3)"
   ]
  },
  {
   "cell_type": "markdown",
   "metadata": {},
   "source": [
    "**Exercise 2:**\n",
    "\n",
    "Write a function which applies `get_string_kmers()` to a list of strings and returns all kmers."
   ]
  },
  {
   "cell_type": "code",
   "execution_count": 7,
   "metadata": {},
   "outputs": [],
   "source": [
    "def get_kmers(reads, k):\n",
    "    '''\n",
    "    Given a list of strings representing reads, and a value k, \n",
    "    return a set of all k-mers of length k.\n",
    "    '''\n",
    "    kmers = set()\n",
    "    for read in reads:\n",
    "        read_kmers = get_string_kmers(read, k)\n",
    "        kmers.update(read_kmers)\n",
    "    return kmers\n",
    "        \n",
    "    \n",
    "    \n",
    "    \n",
    "    "
   ]
  },
  {
   "cell_type": "code",
   "execution_count": 8,
   "metadata": {},
   "outputs": [
    {
     "data": {
      "text/plain": [
       "{'_matte',\n",
       " 'atners',\n",
       " 'atters',\n",
       " 'e_matt',\n",
       " 'ers_no',\n",
       " 'ize_ma',\n",
       " 'matner',\n",
       " 'matter',\n",
       " 'rs_not',\n",
       " 'size_m',\n",
       " 'ters_n',\n",
       " 'tters_'}"
      ]
     },
     "execution_count": 8,
     "metadata": {},
     "output_type": "execute_result"
    }
   ],
   "source": [
    "# Should return {'tters_','ize_ma','atners','ers_no','matner','rs_not','size_m',\n",
    "#                '_matte','e_matt','atters','ters_n','matter'}\n",
    "# (i.e. 12 unique kmers)\n",
    "get_kmers(yoda_reads, 6)"
   ]
  },
  {
   "cell_type": "markdown",
   "metadata": {},
   "source": [
    "## Building a graph with networkx"
   ]
  },
  {
   "cell_type": "markdown",
   "metadata": {},
   "source": [
    "We could represent a graph using Python data structures. For instance, here is one way to represent a graph where nodes B and C are linked from A:\n",
    "    \n",
    "    B <- A -> C\n"
   ]
  },
  {
   "cell_type": "code",
   "execution_count": 9,
   "metadata": {},
   "outputs": [],
   "source": [
    "nodes = ['A','B','C']\n",
    "edges = [('A','B'), ('A','C')]"
   ]
  },
  {
   "cell_type": "markdown",
   "metadata": {},
   "source": [
    "Notice that a tree is a kind of graph, and we have already built trees using data structures in past labs.\n",
    "\n",
    "This time we'll use a library `networkx` intended specifically for graph manipulation."
   ]
  },
  {
   "cell_type": "code",
   "execution_count": 10,
   "metadata": {},
   "outputs": [],
   "source": [
    "import matplotlib.pylab as plt\n",
    "import networkx as nx"
   ]
  },
  {
   "cell_type": "markdown",
   "metadata": {},
   "source": [
    "Here's how to build that same graph in networkx. Note that we use `DiGraph` instead of `Graph`, which gives a directed graph."
   ]
  },
  {
   "cell_type": "code",
   "execution_count": 11,
   "metadata": {},
   "outputs": [],
   "source": [
    "g = nx.DiGraph()\n",
    "g.add_edge('A','B')\n",
    "g.add_edge('A','C')"
   ]
  },
  {
   "cell_type": "markdown",
   "metadata": {},
   "source": [
    "We could have explicitly added nodes with code like `g.add_node('A')`, but since every node is connected to at least one edge in this case, networkx automatically adds the nodes for us when the edges are added. \n",
    "\n",
    "Remember you can look at networkx method documentation with `?` or `help()`. Have a look at the documentation for the `add_edge` method."
   ]
  },
  {
   "cell_type": "code",
   "execution_count": 12,
   "metadata": {},
   "outputs": [
    {
     "data": {
      "text/plain": [
       "NodeView(('A', 'B', 'C'))"
      ]
     },
     "execution_count": 12,
     "metadata": {},
     "output_type": "execute_result"
    }
   ],
   "source": [
    "g.nodes()"
   ]
  },
  {
   "cell_type": "code",
   "execution_count": 13,
   "metadata": {},
   "outputs": [
    {
     "data": {
      "text/plain": [
       "OutEdgeView([('A', 'B'), ('A', 'C')])"
      ]
     },
     "execution_count": 13,
     "metadata": {},
     "output_type": "execute_result"
    }
   ],
   "source": [
    "g.edges()"
   ]
  },
  {
   "cell_type": "markdown",
   "metadata": {},
   "source": [
    "Here's a way to draw the graph with a spring layout, where networkx will try to place nodes so they are not too close together. This is a simple layout algorithm - it's easy to see the result for this tiny graph, but may be difficult see for graphs of any size. The layout is somewhat random and for larger graphs, will be different every time you draw it."
   ]
  },
  {
   "cell_type": "code",
   "execution_count": 14,
   "metadata": {},
   "outputs": [
    {
     "data": {
      "image/png": "[encoded data removed]",
      "text/plain": [
       "<Figure size 432x288 with 1 Axes>"
      ]
     },
     "metadata": {},
     "output_type": "display_data"
    }
   ],
   "source": [
    "nx.draw_spring(g, with_labels=True)"
   ]
  },
  {
   "cell_type": "code",
   "execution_count": 20,
   "metadata": {},
   "outputs": [
    {
     "data": {
      "image/png": "[encoded data removed]",
      "text/plain": [
       "<Figure size 432x288 with 1 Axes>"
      ]
     },
     "metadata": {},
     "output_type": "display_data"
    }
   ],
   "source": [
    "nx.draw_spring(g, with_labels=True, node_size=1200, node_color='#eeeeff', edge_color='red')"
   ]
  },
  {
   "cell_type": "markdown",
   "metadata": {},
   "source": [
    "**Exercise 3:**\n",
    "\n",
    "Write functions `get_suffix()` and `get_prefix()` which just return the `k-1`-length strings which are, respectively the suffix and prefix of the supplied k-mer."
   ]
  },
  {
   "cell_type": "code",
   "execution_count": 21,
   "metadata": {},
   "outputs": [],
   "source": [
    "# Write both functions here\n",
    "def get_prefix(kmer):\n",
    "    return kmer[:-1]\n",
    "\n",
    "\n",
    "def get_suffix(kmer):\n",
    "    return kmer[1:]\n",
    "\n"
   ]
  },
  {
   "cell_type": "code",
   "execution_count": 22,
   "metadata": {},
   "outputs": [
    {
     "data": {
      "text/plain": [
       "'GGTA'"
      ]
     },
     "execution_count": 22,
     "metadata": {},
     "output_type": "execute_result"
    }
   ],
   "source": [
    "# Should return 'GGTA'\n",
    "get_suffix('AGGTA')"
   ]
  },
  {
   "cell_type": "code",
   "execution_count": 23,
   "metadata": {},
   "outputs": [
    {
     "data": {
      "text/plain": [
       "'AGGT'"
      ]
     },
     "execution_count": 23,
     "metadata": {},
     "output_type": "execute_result"
    }
   ],
   "source": [
    "# Should return 'AGGT'\n",
    "get_prefix('AGGTA')"
   ]
  },
  {
   "cell_type": "markdown",
   "metadata": {},
   "source": [
    "**Exercise 4:**"
   ]
  },
  {
   "cell_type": "markdown",
   "metadata": {},
   "source": [
    "Given a set of reads and a value k, build a directed graph, using networkx, where nodes are the prefixes/suffixes of kmers and an edge exists for every kmer."
   ]
  },
  {
   "cell_type": "code",
   "execution_count": 148,
   "metadata": {},
   "outputs": [],
   "source": [
    "def build_graph(reads, k):\n",
    "    '''\n",
    "    Given a set of reads and a value k, return the networkx de Bruijn graph object.\n",
    "    '''\n",
    "    kmers = get_kmers(reads, k)\n",
    "    graph = nx.DiGraph()\n",
    "    for kmer in kmers:\n",
    "        prefix = get_prefix(kmer)\n",
    "        suffix = get_suffix(kmer)\n",
    "        graph.add_edge(prefix, suffix)\n",
    "        \n",
    "    return graph"
   ]
  },
  {
   "cell_type": "code",
   "execution_count": 149,
   "metadata": {},
   "outputs": [],
   "source": [
    "yoda_graph = build_graph(yoda_reads, 4)"
   ]
  },
  {
   "cell_type": "code",
   "execution_count": 87,
   "metadata": {},
   "outputs": [
    {
     "data": {
      "image/png": "[encoded data removed]",
      "text/plain": [
       "<Figure size 432x288 with 1 Axes>"
      ]
     },
     "metadata": {},
     "output_type": "display_data"
    }
   ],
   "source": [
    "nx.draw_spring(yoda_graph, with_labels=True, node_size=1200, node_color='#eeeeff', edge_color='red')"
   ]
  },
  {
   "cell_type": "markdown",
   "metadata": {},
   "source": [
    "**Challenge:** If you want a challenge, you can try to extract contigs from your graph as described in lectures. To extract a contig, we need to find an unbalanced node, then walk along the directed graph only so long as our path is unambiguous.\n",
    "\n",
    "You can find the in-degree and out-degree of nodes (number of edges leading in and out), and the edges themselves, with networkx methods like so:"
   ]
  },
  {
   "cell_type": "code",
   "execution_count": 37,
   "metadata": {},
   "outputs": [],
   "source": [
    "g = nx.DiGraph()\n",
    "g.add_edge('A','B')\n",
    "g.add_edge('A','C')"
   ]
  },
  {
   "cell_type": "code",
   "execution_count": 38,
   "metadata": {},
   "outputs": [
    {
     "data": {
      "text/plain": [
       "0"
      ]
     },
     "execution_count": 38,
     "metadata": {},
     "output_type": "execute_result"
    }
   ],
   "source": [
    "g.in_degree('A')"
   ]
  },
  {
   "cell_type": "code",
   "execution_count": 106,
   "metadata": {},
   "outputs": [
    {
     "data": {
      "text/plain": [
       "2"
      ]
     },
     "execution_count": 106,
     "metadata": {},
     "output_type": "execute_result"
    }
   ],
   "source": [
    "g.out_degree('A')"
   ]
  },
  {
   "cell_type": "code",
   "execution_count": 109,
   "metadata": {},
   "outputs": [
    {
     "data": {
      "text/plain": [
       "OutEdgeDataView([('A', 'B'), ('A', 'C')])"
      ]
     },
     "execution_count": 109,
     "metadata": {},
     "output_type": "execute_result"
    }
   ],
   "source": [
    "g.out_edges('A')"
   ]
  },
  {
   "cell_type": "code",
   "execution_count": 111,
   "metadata": {},
   "outputs": [],
   "source": [
    "def extract_contigs(graph):\n",
    "    unbalanced_nodes = get_unbalanced_nodes(graph)\n",
    "    contig_starts = get_start_nodes(unbalanced_nodes, graph)\n",
    "    \n",
    "    contigs = []\n",
    "    for start_node in contig_starts:\n",
    "        contig = extract_contig(start_node, graph, contig_starts)\n",
    "        contigs.append(contig)\n",
    "    \n",
    "    print('\\ncontigs:\\n')\n",
    "    for contig in contigs:\n",
    "        print(contig)\n",
    "        \n",
    "\n",
    "def get_unbalanced_nodes(graph):\n",
    "    nodes = list(graph.nodes())\n",
    "    unbalanced_nodes = []\n",
    "    \n",
    "    for node in nodes:\n",
    "        if graph.in_degree(node) != graph.out_degree(node):\n",
    "            unbalanced_nodes.append(node)\n",
    "    \n",
    "    return unbalanced_nodes\n",
    "\n",
    "       \n",
    "def get_start_nodes(unbalanced_nodes, graph):\n",
    "    contig_starts = []\n",
    "    \n",
    "    for node in unbalanced_nodes:\n",
    "        if graph.in_degree(node) == 0:\n",
    "            contig_starts.append(node)\n",
    "            \n",
    "        elif graph.in_degree(node) > graph.out_degree(node) and graph.out_degree(node) != 0:\n",
    "            contig_starts.append(node)\n",
    "        \n",
    "        elif graph.in_degree(node) < graph.out_degree(node):\n",
    "            contig_starts += get_next_nodes(node, graph)\n",
    "\n",
    "    return contig_starts\n",
    "\n",
    "\n",
    "def get_next_nodes(node, graph):\n",
    "    edges = list(graph.out_edges(node))\n",
    "    next_nodes = [x[1] for x in edges]\n",
    "    return next_nodes\n",
    "            \n",
    "       \n",
    "def extract_contig(start_node, graph, contig_starts):\n",
    "    contig = ''\n",
    "    contig += start_node\n",
    "    \n",
    "    node = start_node\n",
    "    next_nodes = get_next_nodes(node, graph)\n",
    "    while len(next_nodes) == 1 and not any([n in contig_starts for n in next_nodes]):\n",
    "        node = next_nodes[0]\n",
    "        contig += node[-1]\n",
    "        next_nodes = get_next_nodes(node, graph)\n",
    "    \n",
    "    print(f'start node: {start_node}, contig: {contig}')\n",
    "    return contig\n",
    "        \n",
    "\n",
    "        \n",
    "        "
   ]
  },
  {
   "cell_type": "code",
   "execution_count": 112,
   "metadata": {},
   "outputs": [
    {
     "name": "stdout",
     "output_type": "stream",
     "text": [
      "start node: ers, contig: ers_not\n",
      "start node: siz, contig: size_mat\n",
      "start node: att, contig: atter\n",
      "start node: atn, contig: atner\n",
      "\n",
      "contigs:\n",
      "\n",
      "ers_not\n",
      "size_mat\n",
      "atter\n",
      "atner\n"
     ]
    }
   ],
   "source": [
    "contigs = extract_contigs(yoda_graph)"
   ]
  },
  {
   "cell_type": "code",
   "execution_count": 182,
   "metadata": {},
   "outputs": [],
   "source": [
    "mt_te_graph = build_graph(mt_te_reads, 20)"
   ]
  },
  {
   "cell_type": "code",
   "execution_count": 183,
   "metadata": {},
   "outputs": [
    {
     "data": {
      "image/png": "[encoded data removed]",
      "text/plain": [
       "<Figure size 432x288 with 1 Axes>"
      ]
     },
     "metadata": {},
     "output_type": "display_data"
    }
   ],
   "source": [
    "nx.draw_spring(mt_te_graph, with_labels=True, node_size=1200, node_color='#eeeeff', edge_color='red')"
   ]
  },
  {
   "cell_type": "code",
   "execution_count": 184,
   "metadata": {},
   "outputs": [
    {
     "name": "stdout",
     "output_type": "stream",
     "text": [
      "start node: GGTTTTTCATATCATTGGT, contig: GGTTTTTCATATCATTGGTCGTG\n",
      "start node: TTGTAGTTGAAATACAACG, contig: TTGTAGTTGAAATACAACGAT\n",
      "start node: AACGATGGTTTTTCATATC, contig: AACGATGGTTTTTCATATCA\n",
      "start node: TATCATTGGTCGTGGTTGT, contig: TATCATTGGTCGTGGTTGTAGTCCGTGCG\n",
      "start node: ATGGTTTTTCATATCATTG, contig: ATGGTTTTTCATATCATTGG\n",
      "\n",
      "contigs:\n",
      "\n",
      "GGTTTTTCATATCATTGGTCGTG\n",
      "TTGTAGTTGAAATACAACGAT\n",
      "AACGATGGTTTTTCATATCA\n",
      "TATCATTGGTCGTGGTTGTAGTCCGTGCG\n",
      "ATGGTTTTTCATATCATTGG\n"
     ]
    }
   ],
   "source": [
    "contigs = extract_contigs(mt_te_graph)"
   ]
  },
  {
   "cell_type": "code",
   "execution_count": null,
   "metadata": {},
   "outputs": [],
   "source": []
  }
 ],
 "metadata": {
  "kernelspec": {
   "display_name": "Python 3",
   "language": "python",
   "name": "python3"
  },
  "language_info": {
   "codemirror_mode": {
    "name": "ipython",
    "version": 3
   },
   "file_extension": ".py",
   "mimetype": "text/x-python",
   "name": "python",
   "nbconvert_exporter": "python",
   "pygments_lexer": "ipython3",
   "version": "3.7.8"
  }
 },
 "nbformat": 4,
 "nbformat_minor": 4
}
