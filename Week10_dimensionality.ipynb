{
 "cells": [
  {
   "cell_type": "markdown",
   "metadata": {},
   "source": [
    "# Week 9 - Dimensionality reduction\n",
    "\n",
    "In this lab, you'll get a chance to experiment with library implementations of the dimensionality reduction techniques discussed in lecture.\n",
    "\n",
    "You will not be implementing the algorithms yourself. Instead you will be expected to use the library methods by reading the online documentation. This is intended to be practical experience - finding solutions based on existing libraries is usually much more practical than implementing a solution from scratch!"
   ]
  },
  {
   "cell_type": "markdown",
   "metadata": {},
   "source": [
    "### Installation notes\n",
    "\n",
    "To run this notebook you will need to install several packages:\n",
    "\n",
    "    conda install pandas\n",
    "    conda install scikit-learn\n",
    "    conda install -c conda-forge umap-learn\n",
    "    conda install -c conda-forge altair vega"
   ]
  },
  {
   "cell_type": "code",
   "execution_count": 2,
   "metadata": {},
   "outputs": [],
   "source": [
    "%matplotlib inline"
   ]
  },
  {
   "cell_type": "code",
   "execution_count": 3,
   "metadata": {},
   "outputs": [],
   "source": [
    "import pandas as pd\n",
    "import numpy as np\n",
    "import gzip\n",
    "import re\n",
    "from urllib.request import urlretrieve\n",
    "from sklearn.decomposition import PCA\n",
    "from sklearn.manifold import TSNE, MDS\n",
    "from umap import UMAP"
   ]
  },
  {
   "cell_type": "code",
   "execution_count": 4,
   "metadata": {},
   "outputs": [],
   "source": [
    "import altair"
   ]
  },
  {
   "cell_type": "code",
   "execution_count": 5,
   "metadata": {},
   "outputs": [],
   "source": [
    "import matplotlib.pyplot as plt\n",
    "# Set default figure size to a larger size\n",
    "plt.rcParams['figure.figsize'] = [10, 10]"
   ]
  },
  {
   "cell_type": "markdown",
   "metadata": {},
   "source": [
    "If it is not already present in your repository, the following code will download the raw [FlyAtlas](http://flyatlas.org/atlas.cgi) data from [NCBI's Gene Expression Omnibus](https://www.ncbi.nlm.nih.gov/geo/). It may take a few moments to download."
   ]
  },
  {
   "cell_type": "code",
   "execution_count": 6,
   "metadata": {},
   "outputs": [],
   "source": [
    "#urlretrieve(\"ftp://ftp.ncbi.nlm.nih.gov/geo/series/GSE7nnn/GSE7763/matrix/GSE7763_series_matrix.txt.gz\", \n",
    "#            filename=\"data/flydata.txt.gz\")"
   ]
  },
  {
   "cell_type": "markdown",
   "metadata": {},
   "source": [
    "The following two cells will open the compressed file you downloaded from GEO into a `pandas` data frame, then reopen the file and parse out the sample title line in order to use this as the column names for the data frame."
   ]
  },
  {
   "cell_type": "code",
   "execution_count": 7,
   "metadata": {},
   "outputs": [],
   "source": [
    "with gzip.open(\"./flydata.txt.gz\") as handle:\n",
    "    expression = pd.read_csv(handle, sep=\"\\t\", comment=\"!\", index_col=0)"
   ]
  },
  {
   "cell_type": "code",
   "execution_count": 8,
   "metadata": {},
   "outputs": [],
   "source": [
    "with gzip.open(\"./flydata.txt.gz\") as handle:\n",
    "    for line in handle:\n",
    "        line = line.decode(\"utf-8\")\n",
    "        if line.startswith(\"!Sample_title\"):\n",
    "            header = [x.strip('\"') for x in line.split(\"\\t\")[1:]]\n",
    "            expression.columns = header\n",
    "            break"
   ]
  },
  {
   "cell_type": "markdown",
   "metadata": {},
   "source": [
    "Output the data frame and see what we have. It should have microarray probe ID's as row names (these can be mapped to gene names but we will skip that for today) and sample names as column names.\n",
    "\n",
    "The data frame has 18952 rows (measurements) and 136 columns (samples) so it is certainly high dimensional."
   ]
  },
  {
   "cell_type": "code",
   "execution_count": 9,
   "metadata": {},
   "outputs": [
    {
     "data": {
      "text/html": [
       "<div>\n",
       "<style scoped>\n",
       "    .dataframe tbody tr th:only-of-type {\n",
       "        vertical-align: middle;\n",
       "    }\n",
       "\n",
       "    .dataframe tbody tr th {\n",
       "        vertical-align: top;\n",
       "    }\n",
       "\n",
       "    .dataframe thead th {\n",
       "        text-align: right;\n",
       "    }\n",
       "</style>\n",
       "<table border=\"1\" class=\"dataframe\">\n",
       "  <thead>\n",
       "    <tr style=\"text-align: right;\">\n",
       "      <th></th>\n",
       "      <th>Adult Hind Gut biological rep1</th>\n",
       "      <th>Adult Hind Gut biological rep2</th>\n",
       "      <th>Adult Hind Gut biological rep3</th>\n",
       "      <th>Adult Hind Gut biological rep4</th>\n",
       "      <th>Adult Mid Gut biological rep1</th>\n",
       "      <th>Adult Mid Gut biological rep2</th>\n",
       "      <th>Adult Mid Gut biological rep3</th>\n",
       "      <th>Adult Mid Gut biological rep4</th>\n",
       "      <th>Adult Accessory gland biological rep1</th>\n",
       "      <th>Adult Accessory gland biological rep2</th>\n",
       "      <th>...</th>\n",
       "      <th>Adult Thoracic Muscle biological rep3</th>\n",
       "      <th>Adult Thoracic Muscle biological rep4</th>\n",
       "      <th>Adult Wings biological rep1</th>\n",
       "      <th>Adult Wings biological rep2</th>\n",
       "      <th>Adult Wings biological rep3</th>\n",
       "      <th>Adult Wings biological rep4</th>\n",
       "      <th>Adult Female Spermatheca Mated (REDONE) biological rep1</th>\n",
       "      <th>Adult Female Spermatheca Mated (REDONE) biological rep2</th>\n",
       "      <th>Adult Female Spermatheca Mated (REDONE) biological rep3</th>\n",
       "      <th>Adult Female Spermatheca Mated (REDONE) biological rep4\"</th>\n",
       "    </tr>\n",
       "    <tr>\n",
       "      <th>ID_REF</th>\n",
       "      <th></th>\n",
       "      <th></th>\n",
       "      <th></th>\n",
       "      <th></th>\n",
       "      <th></th>\n",
       "      <th></th>\n",
       "      <th></th>\n",
       "      <th></th>\n",
       "      <th></th>\n",
       "      <th></th>\n",
       "      <th></th>\n",
       "      <th></th>\n",
       "      <th></th>\n",
       "      <th></th>\n",
       "      <th></th>\n",
       "      <th></th>\n",
       "      <th></th>\n",
       "      <th></th>\n",
       "      <th></th>\n",
       "      <th></th>\n",
       "      <th></th>\n",
       "    </tr>\n",
       "  </thead>\n",
       "  <tbody>\n",
       "    <tr>\n",
       "      <th>1616608_a_at</th>\n",
       "      <td>1092.9800</td>\n",
       "      <td>954.7980</td>\n",
       "      <td>1111.6100</td>\n",
       "      <td>1052.7700</td>\n",
       "      <td>1253.53000</td>\n",
       "      <td>1059.88000</td>\n",
       "      <td>1173.37000</td>\n",
       "      <td>1193.86000</td>\n",
       "      <td>1155.71000</td>\n",
       "      <td>1036.53000</td>\n",
       "      <td>...</td>\n",
       "      <td>5887.9700</td>\n",
       "      <td>1874.5500</td>\n",
       "      <td>804.5200</td>\n",
       "      <td>692.3270</td>\n",
       "      <td>983.8000</td>\n",
       "      <td>813.8470</td>\n",
       "      <td>2557.6200</td>\n",
       "      <td>9660.4700</td>\n",
       "      <td>2034.6300</td>\n",
       "      <td>2236.4700</td>\n",
       "    </tr>\n",
       "    <tr>\n",
       "      <th>1622892_s_at</th>\n",
       "      <td>59.9637</td>\n",
       "      <td>73.3054</td>\n",
       "      <td>70.4826</td>\n",
       "      <td>86.4422</td>\n",
       "      <td>45.01120</td>\n",
       "      <td>62.82730</td>\n",
       "      <td>59.48000</td>\n",
       "      <td>45.96110</td>\n",
       "      <td>117.23300</td>\n",
       "      <td>120.67600</td>\n",
       "      <td>...</td>\n",
       "      <td>114.6910</td>\n",
       "      <td>65.3478</td>\n",
       "      <td>75.9195</td>\n",
       "      <td>90.9804</td>\n",
       "      <td>73.6687</td>\n",
       "      <td>66.1671</td>\n",
       "      <td>90.4524</td>\n",
       "      <td>138.4540</td>\n",
       "      <td>56.2824</td>\n",
       "      <td>65.0492</td>\n",
       "    </tr>\n",
       "    <tr>\n",
       "      <th>1622893_at</th>\n",
       "      <td>277.0040</td>\n",
       "      <td>311.8180</td>\n",
       "      <td>368.8520</td>\n",
       "      <td>299.8900</td>\n",
       "      <td>8.88177</td>\n",
       "      <td>3.24583</td>\n",
       "      <td>7.82305</td>\n",
       "      <td>6.46871</td>\n",
       "      <td>14.82890</td>\n",
       "      <td>17.92080</td>\n",
       "      <td>...</td>\n",
       "      <td>1007.2800</td>\n",
       "      <td>6599.7700</td>\n",
       "      <td>2592.3300</td>\n",
       "      <td>4450.3900</td>\n",
       "      <td>2793.9600</td>\n",
       "      <td>3488.1200</td>\n",
       "      <td>6614.5000</td>\n",
       "      <td>339.2480</td>\n",
       "      <td>8948.1000</td>\n",
       "      <td>8636.3700</td>\n",
       "    </tr>\n",
       "    <tr>\n",
       "      <th>1622894_at</th>\n",
       "      <td>24.4888</td>\n",
       "      <td>17.0768</td>\n",
       "      <td>10.8221</td>\n",
       "      <td>29.3506</td>\n",
       "      <td>8.97962</td>\n",
       "      <td>6.89748</td>\n",
       "      <td>7.22628</td>\n",
       "      <td>10.91120</td>\n",
       "      <td>8.15422</td>\n",
       "      <td>1.30827</td>\n",
       "      <td>...</td>\n",
       "      <td>16.5692</td>\n",
       "      <td>155.5910</td>\n",
       "      <td>35.4175</td>\n",
       "      <td>41.9005</td>\n",
       "      <td>39.2848</td>\n",
       "      <td>37.0554</td>\n",
       "      <td>114.2510</td>\n",
       "      <td>10.0243</td>\n",
       "      <td>165.8780</td>\n",
       "      <td>156.4280</td>\n",
       "    </tr>\n",
       "    <tr>\n",
       "      <th>1622895_at</th>\n",
       "      <td>57.2783</td>\n",
       "      <td>57.8029</td>\n",
       "      <td>47.5623</td>\n",
       "      <td>37.9146</td>\n",
       "      <td>56.25390</td>\n",
       "      <td>74.28550</td>\n",
       "      <td>69.27010</td>\n",
       "      <td>56.65100</td>\n",
       "      <td>124.72900</td>\n",
       "      <td>148.08400</td>\n",
       "      <td>...</td>\n",
       "      <td>25.9620</td>\n",
       "      <td>95.4693</td>\n",
       "      <td>56.0100</td>\n",
       "      <td>66.2136</td>\n",
       "      <td>71.2417</td>\n",
       "      <td>65.4694</td>\n",
       "      <td>88.5396</td>\n",
       "      <td>56.8106</td>\n",
       "      <td>44.0052</td>\n",
       "      <td>74.8953</td>\n",
       "    </tr>\n",
       "  </tbody>\n",
       "</table>\n",
       "<p>5 rows × 136 columns</p>\n",
       "</div>"
      ],
      "text/plain": [
       "              Adult Hind Gut biological rep1  Adult Hind Gut biological rep2  \\\n",
       "ID_REF                                                                         \n",
       "1616608_a_at                       1092.9800                        954.7980   \n",
       "1622892_s_at                         59.9637                         73.3054   \n",
       "1622893_at                          277.0040                        311.8180   \n",
       "1622894_at                           24.4888                         17.0768   \n",
       "1622895_at                           57.2783                         57.8029   \n",
       "\n",
       "              Adult Hind Gut biological rep3  Adult Hind Gut biological rep4  \\\n",
       "ID_REF                                                                         \n",
       "1616608_a_at                       1111.6100                       1052.7700   \n",
       "1622892_s_at                         70.4826                         86.4422   \n",
       "1622893_at                          368.8520                        299.8900   \n",
       "1622894_at                           10.8221                         29.3506   \n",
       "1622895_at                           47.5623                         37.9146   \n",
       "\n",
       "              Adult Mid Gut biological rep1  Adult Mid Gut biological rep2  \\\n",
       "ID_REF                                                                       \n",
       "1616608_a_at                     1253.53000                     1059.88000   \n",
       "1622892_s_at                       45.01120                       62.82730   \n",
       "1622893_at                          8.88177                        3.24583   \n",
       "1622894_at                          8.97962                        6.89748   \n",
       "1622895_at                         56.25390                       74.28550   \n",
       "\n",
       "              Adult Mid Gut biological rep3  Adult Mid Gut biological rep4  \\\n",
       "ID_REF                                                                       \n",
       "1616608_a_at                     1173.37000                     1193.86000   \n",
       "1622892_s_at                       59.48000                       45.96110   \n",
       "1622893_at                          7.82305                        6.46871   \n",
       "1622894_at                          7.22628                       10.91120   \n",
       "1622895_at                         69.27010                       56.65100   \n",
       "\n",
       "              Adult Accessory gland biological rep1  \\\n",
       "ID_REF                                                \n",
       "1616608_a_at                             1155.71000   \n",
       "1622892_s_at                              117.23300   \n",
       "1622893_at                                 14.82890   \n",
       "1622894_at                                  8.15422   \n",
       "1622895_at                                124.72900   \n",
       "\n",
       "              Adult Accessory gland biological rep2  \\\n",
       "ID_REF                                                \n",
       "1616608_a_at                             1036.53000   \n",
       "1622892_s_at                              120.67600   \n",
       "1622893_at                                 17.92080   \n",
       "1622894_at                                  1.30827   \n",
       "1622895_at                                148.08400   \n",
       "\n",
       "                                         ...                              \\\n",
       "ID_REF                                   ...                               \n",
       "1616608_a_at                             ...                               \n",
       "1622892_s_at                             ...                               \n",
       "1622893_at                               ...                               \n",
       "1622894_at                               ...                               \n",
       "1622895_at                               ...                               \n",
       "\n",
       "              Adult Thoracic Muscle biological rep3  \\\n",
       "ID_REF                                                \n",
       "1616608_a_at                              5887.9700   \n",
       "1622892_s_at                               114.6910   \n",
       "1622893_at                                1007.2800   \n",
       "1622894_at                                  16.5692   \n",
       "1622895_at                                  25.9620   \n",
       "\n",
       "              Adult Thoracic Muscle biological rep4  \\\n",
       "ID_REF                                                \n",
       "1616608_a_at                              1874.5500   \n",
       "1622892_s_at                                65.3478   \n",
       "1622893_at                                6599.7700   \n",
       "1622894_at                                 155.5910   \n",
       "1622895_at                                  95.4693   \n",
       "\n",
       "              Adult Wings biological rep1  Adult Wings biological rep2  \\\n",
       "ID_REF                                                                   \n",
       "1616608_a_at                     804.5200                     692.3270   \n",
       "1622892_s_at                      75.9195                      90.9804   \n",
       "1622893_at                      2592.3300                    4450.3900   \n",
       "1622894_at                        35.4175                      41.9005   \n",
       "1622895_at                        56.0100                      66.2136   \n",
       "\n",
       "              Adult Wings biological rep3  Adult Wings biological rep4  \\\n",
       "ID_REF                                                                   \n",
       "1616608_a_at                     983.8000                     813.8470   \n",
       "1622892_s_at                      73.6687                      66.1671   \n",
       "1622893_at                      2793.9600                    3488.1200   \n",
       "1622894_at                        39.2848                      37.0554   \n",
       "1622895_at                        71.2417                      65.4694   \n",
       "\n",
       "              Adult Female Spermatheca Mated (REDONE) biological rep1  \\\n",
       "ID_REF                                                                  \n",
       "1616608_a_at                                          2557.6200         \n",
       "1622892_s_at                                            90.4524         \n",
       "1622893_at                                            6614.5000         \n",
       "1622894_at                                             114.2510         \n",
       "1622895_at                                              88.5396         \n",
       "\n",
       "              Adult Female Spermatheca Mated (REDONE) biological rep2  \\\n",
       "ID_REF                                                                  \n",
       "1616608_a_at                                          9660.4700         \n",
       "1622892_s_at                                           138.4540         \n",
       "1622893_at                                             339.2480         \n",
       "1622894_at                                              10.0243         \n",
       "1622895_at                                              56.8106         \n",
       "\n",
       "              Adult Female Spermatheca Mated (REDONE) biological rep3  \\\n",
       "ID_REF                                                                  \n",
       "1616608_a_at                                          2034.6300         \n",
       "1622892_s_at                                            56.2824         \n",
       "1622893_at                                            8948.1000         \n",
       "1622894_at                                             165.8780         \n",
       "1622895_at                                              44.0052         \n",
       "\n",
       "              Adult Female Spermatheca Mated (REDONE) biological rep4\"\\n  \n",
       "ID_REF                                                                    \n",
       "1616608_a_at                                          2236.4700           \n",
       "1622892_s_at                                            65.0492           \n",
       "1622893_at                                            8636.3700           \n",
       "1622894_at                                             156.4280           \n",
       "1622895_at                                              74.8953           \n",
       "\n",
       "[5 rows x 136 columns]"
      ]
     },
     "execution_count": 9,
     "metadata": {},
     "output_type": "execute_result"
    }
   ],
   "source": [
    "expression.head()"
   ]
  },
  {
   "cell_type": "markdown",
   "metadata": {},
   "source": [
    "These 136 columns represent 4 replicates each from 34 different tissue types."
   ]
  },
  {
   "cell_type": "markdown",
   "metadata": {},
   "source": [
    "The following code snippet removes the replicate name from each sample, so we can use these labels as categories for plotting later."
   ]
  },
  {
   "cell_type": "code",
   "execution_count": 10,
   "metadata": {},
   "outputs": [],
   "source": [
    "sample_categories = [re.match('(.+?)(( biological)? rep\\d+)', c).group(1)\n",
    "                     for c in expression.columns]"
   ]
  },
  {
   "cell_type": "code",
   "execution_count": 11,
   "metadata": {},
   "outputs": [
    {
     "data": {
      "text/plain": [
       "['Adult Hind Gut',\n",
       " 'Adult Hind Gut',\n",
       " 'Adult Hind Gut',\n",
       " 'Adult Hind Gut',\n",
       " 'Adult Mid Gut',\n",
       " 'Adult Mid Gut',\n",
       " 'Adult Mid Gut',\n",
       " 'Adult Mid Gut',\n",
       " 'Adult Accessory gland',\n",
       " 'Adult Accessory gland',\n",
       " 'Adult Accessory gland',\n",
       " 'Adult Accessory gland',\n",
       " 'Adult Brain',\n",
       " 'Adult Brain',\n",
       " 'Adult Brain',\n",
       " 'Adult Brain',\n",
       " 'Adult Crop',\n",
       " 'Adult Crop',\n",
       " 'Adult Crop',\n",
       " 'Adult Crop',\n",
       " 'Larval Wandering fat body',\n",
       " 'Larval Wandering fat body',\n",
       " 'Larval Wandering fat body',\n",
       " 'Larval Wandering fat body',\n",
       " 'Adult Head',\n",
       " 'Adult Head',\n",
       " 'Adult Head',\n",
       " 'Adult Head',\n",
       " 'Larvae Wandering Tubules',\n",
       " 'Larvae Wandering Tubules',\n",
       " 'Larvae Wandering Tubules',\n",
       " 'Larvae Wandering Tubules',\n",
       " 'Adult Ovary',\n",
       " 'Adult Ovary',\n",
       " 'Adult Ovary',\n",
       " 'Adult Ovary',\n",
       " 'Adult Testes',\n",
       " 'Adult Testes',\n",
       " 'Adult Testes',\n",
       " 'Adult Testes',\n",
       " 'Adult Whole Fly',\n",
       " 'Adult Whole Fly',\n",
       " 'Adult Whole Fly',\n",
       " 'Adult Whole Fly',\n",
       " 'Adult Salivary Gland',\n",
       " 'Adult Salivary Gland',\n",
       " 'Adult Salivary Gland',\n",
       " 'Adult Salivary Gland',\n",
       " 'Adult Carcass',\n",
       " 'Adult Carcass',\n",
       " 'Adult Carcass',\n",
       " 'Adult Carcass',\n",
       " 'Adult Thoracoabdominal ganglion',\n",
       " 'Adult Thoracoabdominal ganglion',\n",
       " 'Adult Thoracoabdominal ganglion',\n",
       " 'Adult Thoracoabdominal ganglion',\n",
       " 'Larval Feeding Hind Gut',\n",
       " 'Larval Feeding Hind Gut',\n",
       " 'Larval Feeding Hind Gut',\n",
       " 'Larval Feeding Hind Gut',\n",
       " 'Larval Feeding Mid Gut',\n",
       " 'Larval Feeding Mid Gut',\n",
       " 'Larval Feeding Mid Gut',\n",
       " 'Larval Feeding Mid Gut',\n",
       " 'Larval Feeding Salivary Gland',\n",
       " 'Larval Feeding Salivary Gland',\n",
       " 'Larval Feeding Salivary Gland',\n",
       " 'Larval Feeding Salivary Gland',\n",
       " 'Adult Female Spermatheca Mated',\n",
       " 'Adult Female Spermatheca Mated',\n",
       " 'Adult Female Spermatheca Mated',\n",
       " 'Adult Female Spermatheca Mated',\n",
       " 'Adult Female Spermatheca Virgin',\n",
       " 'Adult Female Spermatheca Virgin',\n",
       " 'Adult Female Spermatheca Virgin',\n",
       " 'Adult Female Spermatheca Virgin',\n",
       " 'Larval Feeding Malpighian Tubule',\n",
       " 'Larval Feeding Malpighian Tubule',\n",
       " 'Larval Feeding Malpighian Tubule',\n",
       " 'Larval Feeding Malpighian Tubule',\n",
       " 'Larval Feeding Fatbody',\n",
       " 'Larval Feeding Fatbody',\n",
       " 'Larval Feeding Fatbody',\n",
       " 'Larval Feeding Fatbody',\n",
       " 'Larval Feeding Carcass',\n",
       " 'Larval Feeding Carcass',\n",
       " 'Larval Feeding Carcass',\n",
       " 'Larval Feeding Carcass',\n",
       " 'Larval Feeding Central Nevous System',\n",
       " 'Larval Feeding Central Nevous System',\n",
       " 'Larval Feeding Central Nevous System',\n",
       " 'Larval Feeding Central Nevous System',\n",
       " 'Larval Feeding Trachea',\n",
       " 'Larval Feeding Trachea',\n",
       " 'Larval Feeding Trachea',\n",
       " 'Larval Feeding Trachea',\n",
       " '5th Passage Drosophila S2 Cells',\n",
       " '5th Passage Drosophila S2 Cells',\n",
       " '5th Passage Drosophila S2 Cells',\n",
       " '5th Passage Drosophila S2 Cells',\n",
       " 'Adult Fatbody',\n",
       " 'Adult Fatbody',\n",
       " 'Adult Fatbody',\n",
       " 'Adult Fatbody',\n",
       " 'Adult Eye',\n",
       " 'Adult Eye',\n",
       " 'Adult Eye',\n",
       " 'Adult Eye',\n",
       " 'Adult Heart',\n",
       " 'Adult Heart',\n",
       " 'Adult Heart',\n",
       " 'Adult Heart',\n",
       " 'Adult Male Ejaculatory Duct',\n",
       " 'Adult Male Ejaculatory Duct',\n",
       " 'Adult Male Ejaculatory Duct',\n",
       " 'Adult Male Ejaculatory Duct',\n",
       " 'Whole Larvae Feeding',\n",
       " 'Whole Larvae Feeding',\n",
       " 'Whole Larvae Feeding',\n",
       " 'Whole Larvae Feeding',\n",
       " 'Adult Trachea',\n",
       " 'Adult Trachea',\n",
       " 'Adult Trachea',\n",
       " 'Adult Trachea',\n",
       " 'Adult Thoracic Muscle',\n",
       " 'Adult Thoracic Muscle',\n",
       " 'Adult Thoracic Muscle',\n",
       " 'Adult Thoracic Muscle',\n",
       " 'Adult Wings',\n",
       " 'Adult Wings',\n",
       " 'Adult Wings',\n",
       " 'Adult Wings',\n",
       " 'Adult Female Spermatheca Mated (REDONE)',\n",
       " 'Adult Female Spermatheca Mated (REDONE)',\n",
       " 'Adult Female Spermatheca Mated (REDONE)',\n",
       " 'Adult Female Spermatheca Mated (REDONE)']"
      ]
     },
     "execution_count": 11,
     "metadata": {},
     "output_type": "execute_result"
    }
   ],
   "source": [
    "sample_categories"
   ]
  },
  {
   "cell_type": "markdown",
   "metadata": {},
   "source": [
    "The following function will render a two-dimensional scatterplot which is coloured by the list of categories. We will use it for PCA, MDS, tSNE, and UMAP visualizations.\n",
    "\n",
    "The first function provided uses the Altair plotting library, which is interactive, allowing us to mouseover the points. To use this, you must install Altair as described in the first cell.\n",
    "\n",
    "If you have trouble with Altair, you can use the second function below instead, which only requires matplotlib."
   ]
  },
  {
   "cell_type": "code",
   "execution_count": 12,
   "metadata": {},
   "outputs": [],
   "source": [
    "# Here is a plotting function that uses Altair\n",
    "# You can interact with the plot by mousing over\n",
    "# the data points\n",
    "def plot_two_dimensions(data, categories, reps):\n",
    "    df = pd.DataFrame(data)\n",
    "    df.columns = ['Dim{}'.format(n) for n in range(1,data.shape[1]+1)]\n",
    "    df['Category'] = categories\n",
    "    df['Sample'] = reps\n",
    "    chart = altair.Chart(df).mark_circle().\\\n",
    "                encode(x='Dim1',y='Dim2',color='Category',tooltip='Sample')\n",
    "    return chart"
   ]
  },
  {
   "cell_type": "code",
   "execution_count": 13,
   "metadata": {},
   "outputs": [],
   "source": [
    "# Here is a plotting function that uses just matplotlib\n",
    "# Use this if you have trouble with Altair\n",
    "def plot_two_dimensions_mpl(data, categories):\n",
    "    categories = pd.Series(categories)\n",
    "    fig,ax = plt.subplots()\n",
    "    for category in categories.unique():\n",
    "        ax.scatter(data[categories==category, 0], \n",
    "                    data[categories==category, 1],\n",
    "                    label=category)\n",
    "    # Place the legend outside the plot, at x=1.05\n",
    "    # (where the plot runs from 0 to 1)\n",
    "    plt.legend(loc=(1.05,0))"
   ]
  },
  {
   "cell_type": "markdown",
   "metadata": {},
   "source": [
    "It's common practice to take the log of expression values:"
   ]
  },
  {
   "cell_type": "code",
   "execution_count": 14,
   "metadata": {},
   "outputs": [],
   "source": [
    "log_expression = np.log(expression + 1)"
   ]
  },
  {
   "cell_type": "markdown",
   "metadata": {},
   "source": [
    "The following code performs PCA on the dataset. The `log_expression.values` extracts the values in the data frame as a matrix. The `.T` takes the transpose of the matrix (swaps rows and columns)."
   ]
  },
  {
   "cell_type": "code",
   "execution_count": 15,
   "metadata": {},
   "outputs": [
    {
     "data": {
      "application/vnd.vegalite.v2+json": {
       "$schema": "https://vega.github.io/schema/vega-lite/v2.6.0.json",
       "config": {
        "view": {
         "height": 300,
         "width": 400
        }
       },
       "data": {
        "name": "data-99afe395d33c0a23cb993b1b95d780c9"
       },
       "datasets": {
        "data-99afe395d33c0a23cb993b1b95d780c9": [
         {
          "Category": "Adult Hind Gut",
          "Dim1": -11.228354507819494,
          "Dim2": -34.88908632666633,
          "Sample": "Adult Hind Gut biological rep1"
         },
         {
          "Category": "Adult Hind Gut",
          "Dim1": -14.177062797890118,
          "Dim2": -37.32491365365464,
          "Sample": "Adult Hind Gut biological rep2"
         },
         {
          "Category": "Adult Hind Gut",
          "Dim1": -16.9871643065065,
          "Dim2": -39.53141309859772,
          "Sample": "Adult Hind Gut biological rep3"
         },
         {
          "Category": "Adult Hind Gut",
          "Dim1": -13.417978341914347,
          "Dim2": -36.55077470764228,
          "Sample": "Adult Hind Gut biological rep4"
         },
         {
          "Category": "Adult Mid Gut",
          "Dim1": 31.100026063700845,
          "Dim2": -70.91443672243732,
          "Sample": "Adult Mid Gut biological rep1"
         },
         {
          "Category": "Adult Mid Gut",
          "Dim1": 28.39256984652456,
          "Dim2": -73.56565387122056,
          "Sample": "Adult Mid Gut biological rep2"
         },
         {
          "Category": "Adult Mid Gut",
          "Dim1": 27.798626319631097,
          "Dim2": -75.77215894966524,
          "Sample": "Adult Mid Gut biological rep3"
         },
         {
          "Category": "Adult Mid Gut",
          "Dim1": 28.761253877087206,
          "Dim2": -76.40122673684125,
          "Sample": "Adult Mid Gut biological rep4"
         },
         {
          "Category": "Adult Accessory gland",
          "Dim1": 13.531257809067744,
          "Dim2": -4.239474764225869,
          "Sample": "Adult Accessory gland biological rep1"
         },
         {
          "Category": "Adult Accessory gland",
          "Dim1": 14.210242841746005,
          "Dim2": -5.002340923045749,
          "Sample": "Adult Accessory gland biological rep2"
         },
         {
          "Category": "Adult Accessory gland",
          "Dim1": 9.76807888570711,
          "Dim2": -8.42271533899217,
          "Sample": "Adult Accessory gland biological rep3"
         },
         {
          "Category": "Adult Accessory gland",
          "Dim1": 12.006258160348684,
          "Dim2": -3.980368749880284,
          "Sample": "Adult Accessory gland biological rep4"
         },
         {
          "Category": "Adult Brain",
          "Dim1": -74.48354151343152,
          "Dim2": 75.0253142380018,
          "Sample": "Adult Brain biological rep1"
         },
         {
          "Category": "Adult Brain",
          "Dim1": -74.0450476822946,
          "Dim2": 75.43926983398374,
          "Sample": "Adult Brain biological rep2"
         },
         {
          "Category": "Adult Brain",
          "Dim1": -69.12586661601975,
          "Dim2": 76.62642906286251,
          "Sample": "Adult Brain biological rep3"
         },
         {
          "Category": "Adult Brain",
          "Dim1": -64.42098455381566,
          "Dim2": 77.54422033138611,
          "Sample": "Adult Brain biological rep4"
         },
         {
          "Category": "Adult Crop",
          "Dim1": -25.446596993890864,
          "Dim2": -12.87591567090732,
          "Sample": "Adult Crop biological rep1"
         },
         {
          "Category": "Adult Crop",
          "Dim1": -24.135631734422287,
          "Dim2": -10.242277142058024,
          "Sample": "Adult Crop biological rep2"
         },
         {
          "Category": "Adult Crop",
          "Dim1": -23.512161094548617,
          "Dim2": -5.948192385102815,
          "Sample": "Adult Crop biological rep3"
         },
         {
          "Category": "Adult Crop",
          "Dim1": -22.75661322483959,
          "Dim2": -7.608495096609918,
          "Sample": "Adult Crop biological rep4"
         },
         {
          "Category": "Larval Wandering fat body",
          "Dim1": 52.771153604802706,
          "Dim2": 6.106433576055213,
          "Sample": "Larval Wandering fat body biological rep1"
         },
         {
          "Category": "Larval Wandering fat body",
          "Dim1": 127.86041920268781,
          "Dim2": 66.102013904613,
          "Sample": "Larval Wandering fat body biological rep2"
         },
         {
          "Category": "Larval Wandering fat body",
          "Dim1": 91.38653334573297,
          "Dim2": 35.71597722301221,
          "Sample": "Larval Wandering fat body biological rep3"
         },
         {
          "Category": "Larval Wandering fat body",
          "Dim1": 80.6723540287293,
          "Dim2": 28.69040281285122,
          "Sample": "Larval Wandering fat body biological rep4"
         },
         {
          "Category": "Adult Head",
          "Dim1": -65.84806206727215,
          "Dim2": 48.5942874594503,
          "Sample": "Adult Head biological rep1"
         },
         {
          "Category": "Adult Head",
          "Dim1": -68.80052912539941,
          "Dim2": 46.43866907295011,
          "Sample": "Adult Head biological rep2"
         },
         {
          "Category": "Adult Head",
          "Dim1": -64.46984169188089,
          "Dim2": 46.316539911537056,
          "Sample": "Adult Head biological rep3"
         },
         {
          "Category": "Adult Head",
          "Dim1": -62.34019427060061,
          "Dim2": 53.0071897091249,
          "Sample": "Adult Head biological rep4"
         },
         {
          "Category": "Larvae Wandering Tubules",
          "Dim1": 20.6925741020961,
          "Dim2": -66.62128908633176,
          "Sample": "Larvae Wandering Tubules biological rep1"
         },
         {
          "Category": "Larvae Wandering Tubules",
          "Dim1": 21.64518173386835,
          "Dim2": -61.28027405843603,
          "Sample": "Larvae Wandering Tubules biological rep2"
         },
         {
          "Category": "Larvae Wandering Tubules",
          "Dim1": 18.403632391664093,
          "Dim2": -61.18557148287247,
          "Sample": "Larvae Wandering Tubules biological rep3"
         },
         {
          "Category": "Larvae Wandering Tubules",
          "Dim1": 17.95239266771082,
          "Dim2": -64.75004815698858,
          "Sample": "Larvae Wandering Tubules biological rep4"
         },
         {
          "Category": "Adult Ovary",
          "Dim1": 13.45052570434039,
          "Dim2": -15.066995896707722,
          "Sample": "Adult Ovary biological rep1"
         },
         {
          "Category": "Adult Ovary",
          "Dim1": 13.202725566950578,
          "Dim2": -14.449375137818622,
          "Sample": "Adult Ovary biological rep2"
         },
         {
          "Category": "Adult Ovary",
          "Dim1": 13.150801273751016,
          "Dim2": -14.139552589551556,
          "Sample": "Adult Ovary biological rep3"
         },
         {
          "Category": "Adult Ovary",
          "Dim1": 12.030091509287745,
          "Dim2": -15.662419781328582,
          "Sample": "Adult Ovary biological rep4"
         },
         {
          "Category": "Adult Testes",
          "Dim1": 183.5523937315893,
          "Dim2": 116.22264709651154,
          "Sample": "Adult Testes biological rep1"
         },
         {
          "Category": "Adult Testes",
          "Dim1": 182.74059592059362,
          "Dim2": 115.48741364185115,
          "Sample": "Adult Testes biological rep2"
         },
         {
          "Category": "Adult Testes",
          "Dim1": 184.87803945327707,
          "Dim2": 115.46925678129408,
          "Sample": "Adult Testes biological rep3"
         },
         {
          "Category": "Adult Testes",
          "Dim1": 182.10039632017933,
          "Dim2": 115.42403913001432,
          "Sample": "Adult Testes biological rep4"
         },
         {
          "Category": "Adult Whole Fly",
          "Dim1": 73.5301708223613,
          "Dim2": 47.49580389272978,
          "Sample": "Adult Whole Fly biological rep1"
         },
         {
          "Category": "Adult Whole Fly",
          "Dim1": 75.66643937150297,
          "Dim2": 49.03305799718635,
          "Sample": "Adult Whole Fly biological rep2"
         },
         {
          "Category": "Adult Whole Fly",
          "Dim1": 74.13620274483571,
          "Dim2": 50.187660630402895,
          "Sample": "Adult Whole Fly biological rep3"
         },
         {
          "Category": "Adult Whole Fly",
          "Dim1": 74.69830216008272,
          "Dim2": 57.58276380771662,
          "Sample": "Adult Whole Fly biological rep4"
         },
         {
          "Category": "Adult Salivary Gland",
          "Dim1": 12.7211780345082,
          "Dim2": -3.7636147224692285,
          "Sample": "Adult Salivary Gland rep1"
         },
         {
          "Category": "Adult Salivary Gland",
          "Dim1": 5.152425408882497,
          "Dim2": -8.577843979947417,
          "Sample": "Adult Salivary Gland rep2"
         },
         {
          "Category": "Adult Salivary Gland",
          "Dim1": 6.0504784521839285,
          "Dim2": -9.849381677726257,
          "Sample": "Adult Salivary Gland rep3"
         },
         {
          "Category": "Adult Salivary Gland",
          "Dim1": 3.4450059413242076,
          "Dim2": -8.79316342617264,
          "Sample": "Adult Salivary Gland rep4"
         },
         {
          "Category": "Adult Carcass",
          "Dim1": -30.235094981070993,
          "Dim2": 15.408296626763317,
          "Sample": "Adult Carcass biological rep1"
         },
         {
          "Category": "Adult Carcass",
          "Dim1": -15.764298833639863,
          "Dim2": 24.505492502324906,
          "Sample": "Adult Carcass biological rep2"
         },
         {
          "Category": "Adult Carcass",
          "Dim1": -16.032116765006247,
          "Dim2": 21.66619299038744,
          "Sample": "Adult Carcass biological rep3"
         },
         {
          "Category": "Adult Carcass",
          "Dim1": -21.56921193591604,
          "Dim2": 18.893457516085498,
          "Sample": "Adult Carcass biological rep4"
         },
         {
          "Category": "Adult Thoracoabdominal ganglion",
          "Dim1": -62.590701835683646,
          "Dim2": 71.27010815690035,
          "Sample": "Adult Thoracoabdominal ganglion rep1"
         },
         {
          "Category": "Adult Thoracoabdominal ganglion",
          "Dim1": -65.88749367030105,
          "Dim2": 66.61150177824979,
          "Sample": "Adult Thoracoabdominal ganglion rep2"
         },
         {
          "Category": "Adult Thoracoabdominal ganglion",
          "Dim1": -64.052438680099,
          "Dim2": 68.24674330996592,
          "Sample": "Adult Thoracoabdominal ganglion rep3"
         },
         {
          "Category": "Adult Thoracoabdominal ganglion",
          "Dim1": -65.87040951410559,
          "Dim2": 68.14842788706831,
          "Sample": "Adult Thoracoabdominal ganglion rep4"
         },
         {
          "Category": "Larval Feeding Hind Gut",
          "Dim1": 3.3913055409149977,
          "Dim2": -61.92697642522996,
          "Sample": "Larval Feeding Hind Gut rep1"
         },
         {
          "Category": "Larval Feeding Hind Gut",
          "Dim1": 3.7583013714028435,
          "Dim2": -57.260463074132346,
          "Sample": "Larval Feeding Hind Gut rep2"
         },
         {
          "Category": "Larval Feeding Hind Gut",
          "Dim1": 2.460679301338152,
          "Dim2": -54.120175191688645,
          "Sample": "Larval Feeding Hind Gut rep3"
         },
         {
          "Category": "Larval Feeding Hind Gut",
          "Dim1": 2.243898618511564,
          "Dim2": -55.40206138572857,
          "Sample": "Larval Feeding Hind Gut rep4"
         },
         {
          "Category": "Larval Feeding Mid Gut",
          "Dim1": 40.060147553817046,
          "Dim2": -72.61836808238694,
          "Sample": "Larval Feeding Mid Gut rep1"
         },
         {
          "Category": "Larval Feeding Mid Gut",
          "Dim1": 37.12137279741067,
          "Dim2": -79.42428003572853,
          "Sample": "Larval Feeding Mid Gut rep2"
         },
         {
          "Category": "Larval Feeding Mid Gut",
          "Dim1": 37.41573642138478,
          "Dim2": -83.3359770044357,
          "Sample": "Larval Feeding Mid Gut rep3"
         },
         {
          "Category": "Larval Feeding Mid Gut",
          "Dim1": 36.23930650835034,
          "Dim2": -83.20049823552894,
          "Sample": "Larval Feeding Mid Gut rep4"
         },
         {
          "Category": "Larval Feeding Salivary Gland",
          "Dim1": 13.481308571906355,
          "Dim2": -31.972409110465367,
          "Sample": "Larval Feeding Salivary Gland rep1"
         },
         {
          "Category": "Larval Feeding Salivary Gland",
          "Dim1": 12.241556404044593,
          "Dim2": -34.26957214005342,
          "Sample": "Larval Feeding Salivary Gland rep2"
         },
         {
          "Category": "Larval Feeding Salivary Gland",
          "Dim1": 11.299242267613828,
          "Dim2": -28.244739475412985,
          "Sample": "Larval Feeding Salivary Gland rep3"
         },
         {
          "Category": "Larval Feeding Salivary Gland",
          "Dim1": 11.802566464674038,
          "Dim2": -31.77726351978555,
          "Sample": "Larval Feeding Salivary Gland rep4"
         },
         {
          "Category": "Adult Female Spermatheca Mated",
          "Dim1": -16.58794868284184,
          "Dim2": -2.195573579880997,
          "Sample": "Adult Female Spermatheca Mated rep1"
         },
         {
          "Category": "Adult Female Spermatheca Mated",
          "Dim1": -24.099306590169206,
          "Dim2": -8.785259190706206,
          "Sample": "Adult Female Spermatheca Mated rep2"
         },
         {
          "Category": "Adult Female Spermatheca Mated",
          "Dim1": -20.124399201154045,
          "Dim2": 0.003802291494435227,
          "Sample": "Adult Female Spermatheca Mated rep3"
         },
         {
          "Category": "Adult Female Spermatheca Mated",
          "Dim1": -21.252337363664857,
          "Dim2": -12.56646187932181,
          "Sample": "Adult Female Spermatheca Mated rep4"
         },
         {
          "Category": "Adult Female Spermatheca Virgin",
          "Dim1": -23.334190481310245,
          "Dim2": -9.419277293629515,
          "Sample": "Adult Female Spermatheca Virgin rep1"
         },
         {
          "Category": "Adult Female Spermatheca Virgin",
          "Dim1": -20.451300203830602,
          "Dim2": -7.828795444101752,
          "Sample": "Adult Female Spermatheca Virgin rep2"
         },
         {
          "Category": "Adult Female Spermatheca Virgin",
          "Dim1": -22.14479350761727,
          "Dim2": -7.01867107543606,
          "Sample": "Adult Female Spermatheca Virgin rep3"
         },
         {
          "Category": "Adult Female Spermatheca Virgin",
          "Dim1": -23.71854004009385,
          "Dim2": -7.431659268190006,
          "Sample": "Adult Female Spermatheca Virgin rep4"
         },
         {
          "Category": "Larval Feeding Malpighian Tubule",
          "Dim1": 16.720876707582786,
          "Dim2": -72.65601032999737,
          "Sample": "Larval Feeding Malpighian Tubule biological rep1"
         },
         {
          "Category": "Larval Feeding Malpighian Tubule",
          "Dim1": 18.69766492326466,
          "Dim2": -66.8350696595059,
          "Sample": "Larval Feeding Malpighian Tubule biological rep2"
         },
         {
          "Category": "Larval Feeding Malpighian Tubule",
          "Dim1": 17.226552516564503,
          "Dim2": -67.85893949621338,
          "Sample": "Larval Feeding Malpighian Tubule biological rep3"
         },
         {
          "Category": "Larval Feeding Malpighian Tubule",
          "Dim1": 18.19179906195978,
          "Dim2": -68.47645737493298,
          "Sample": "Larval Feeding Malpighian Tubule biological rep4"
         },
         {
          "Category": "Larval Feeding Fatbody",
          "Dim1": 9.961365110523227,
          "Dim2": -24.07528965721432,
          "Sample": "Larval Feeding Fatbody biological rep1"
         },
         {
          "Category": "Larval Feeding Fatbody",
          "Dim1": 6.970817279963529,
          "Dim2": -28.376352911497108,
          "Sample": "Larval Feeding Fatbody biological rep2"
         },
         {
          "Category": "Larval Feeding Fatbody",
          "Dim1": 11.241243779732567,
          "Dim2": -10.885142719653043,
          "Sample": "Larval Feeding Fatbody biological rep3"
         },
         {
          "Category": "Larval Feeding Fatbody",
          "Dim1": 89.93462868420994,
          "Dim2": 31.69762384045912,
          "Sample": "Larval Feeding Fatbody biological rep4"
         },
         {
          "Category": "Larval Feeding Carcass",
          "Dim1": -6.087409452886761,
          "Dim2": -23.18774562966891,
          "Sample": "Larval Feeding Carcass biological rep1"
         },
         {
          "Category": "Larval Feeding Carcass",
          "Dim1": -8.47290154158037,
          "Dim2": -26.366956859167317,
          "Sample": "Larval Feeding Carcass biological rep2"
         },
         {
          "Category": "Larval Feeding Carcass",
          "Dim1": -5.77116253059022,
          "Dim2": -24.75204201810933,
          "Sample": "Larval Feeding Carcass biological rep3"
         },
         {
          "Category": "Larval Feeding Carcass",
          "Dim1": -1.9978451526742045,
          "Dim2": -22.563842035929625,
          "Sample": "Larval Feeding Carcass biological rep4"
         },
         {
          "Category": "Larval Feeding Central Nevous System",
          "Dim1": -40.30936601988395,
          "Dim2": 45.36758349112378,
          "Sample": "Larval Feeding Central Nevous System biological rep1"
         },
         {
          "Category": "Larval Feeding Central Nevous System",
          "Dim1": -34.741362956218104,
          "Dim2": 46.016433672379634,
          "Sample": "Larval Feeding Central Nevous System biological rep2"
         },
         {
          "Category": "Larval Feeding Central Nevous System",
          "Dim1": -38.00472032303972,
          "Dim2": 44.33398815626759,
          "Sample": "Larval Feeding Central Nevous System biological rep3"
         },
         {
          "Category": "Larval Feeding Central Nevous System",
          "Dim1": -38.77618054444008,
          "Dim2": 47.03547831988592,
          "Sample": "Larval Feeding Central Nevous System biological rep4"
         },
         {
          "Category": "Larval Feeding Trachea",
          "Dim1": -10.123367231087398,
          "Dim2": -23.017171012458196,
          "Sample": "Larval Feeding Trachea biological rep1"
         },
         {
          "Category": "Larval Feeding Trachea",
          "Dim1": -13.57095602345494,
          "Dim2": -26.541587607853856,
          "Sample": "Larval Feeding Trachea biological rep2"
         },
         {
          "Category": "Larval Feeding Trachea",
          "Dim1": 26.16520819345396,
          "Dim2": -1.7009309713964862,
          "Sample": "Larval Feeding Trachea biological rep3"
         },
         {
          "Category": "Larval Feeding Trachea",
          "Dim1": -19.412341191496402,
          "Dim2": -4.574715252339644,
          "Sample": "Larval Feeding Trachea biological rep4"
         },
         {
          "Category": "5th Passage Drosophila S2 Cells",
          "Dim1": 9.300714500309024,
          "Dim2": -20.40341938745754,
          "Sample": "5th Passage Drosophila S2 Cells biological rep1"
         },
         {
          "Category": "5th Passage Drosophila S2 Cells",
          "Dim1": 11.466905996150691,
          "Dim2": -20.441527601078786,
          "Sample": "5th Passage Drosophila S2 Cells biological rep2"
         },
         {
          "Category": "5th Passage Drosophila S2 Cells",
          "Dim1": 11.884573077299391,
          "Dim2": -20.14743753243611,
          "Sample": "5th Passage Drosophila S2 Cells biological rep3"
         },
         {
          "Category": "5th Passage Drosophila S2 Cells",
          "Dim1": 9.671924038480281,
          "Dim2": -22.22563912298543,
          "Sample": "5th Passage Drosophila S2 Cells biological rep4"
         },
         {
          "Category": "Adult Fatbody",
          "Dim1": -17.69720743647299,
          "Dim2": 4.560394894024619,
          "Sample": "Adult Fatbody biological rep1"
         },
         {
          "Category": "Adult Fatbody",
          "Dim1": -15.84674907857122,
          "Dim2": 5.685466707166424,
          "Sample": "Adult Fatbody biological rep2"
         },
         {
          "Category": "Adult Fatbody",
          "Dim1": -16.247927982904848,
          "Dim2": -1.9783230224818371,
          "Sample": "Adult Fatbody biological rep3"
         },
         {
          "Category": "Adult Fatbody",
          "Dim1": -21.120622715875935,
          "Dim2": -1.4219739536879636,
          "Sample": "Adult Fatbody biological rep4"
         },
         {
          "Category": "Adult Eye",
          "Dim1": -70.46950623235703,
          "Dim2": 48.348332384678095,
          "Sample": "Adult Eye biological rep1"
         },
         {
          "Category": "Adult Eye",
          "Dim1": -68.31707662092818,
          "Dim2": 43.46696375441516,
          "Sample": "Adult Eye biological rep2"
         },
         {
          "Category": "Adult Eye",
          "Dim1": -68.0095659550325,
          "Dim2": 42.42693244791904,
          "Sample": "Adult Eye biological rep3"
         },
         {
          "Category": "Adult Eye",
          "Dim1": -69.89573195559062,
          "Dim2": 45.416813196812576,
          "Sample": "Adult Eye biological rep4"
         },
         {
          "Category": "Adult Heart",
          "Dim1": -35.957403764899084,
          "Dim2": -6.3888779300103895,
          "Sample": "Adult Heart biological rep1"
         },
         {
          "Category": "Adult Heart",
          "Dim1": -36.73617711697838,
          "Dim2": -3.8960023651916007,
          "Sample": "Adult Heart biological rep2"
         },
         {
          "Category": "Adult Heart",
          "Dim1": -40.12584484892815,
          "Dim2": -7.636651772347054,
          "Sample": "Adult Heart biological rep3"
         },
         {
          "Category": "Adult Heart",
          "Dim1": -36.17691131486391,
          "Dim2": -7.628858582718434,
          "Sample": "Adult Heart biological rep4"
         },
         {
          "Category": "Adult Male Ejaculatory Duct",
          "Dim1": -9.1827709936581,
          "Dim2": -15.888081442939265,
          "Sample": "Adult Male Ejaculatory Duct biological rep1"
         },
         {
          "Category": "Adult Male Ejaculatory Duct",
          "Dim1": -1.1076868461877993,
          "Dim2": -9.160936480169157,
          "Sample": "Adult Male Ejaculatory Duct biological rep2"
         },
         {
          "Category": "Adult Male Ejaculatory Duct",
          "Dim1": -8.539299940369862,
          "Dim2": -10.858521256116948,
          "Sample": "Adult Male Ejaculatory Duct biological rep3"
         },
         {
          "Category": "Adult Male Ejaculatory Duct",
          "Dim1": -3.5591144120823346,
          "Dim2": -8.951891537890036,
          "Sample": "Adult Male Ejaculatory Duct biological rep4"
         },
         {
          "Category": "Whole Larvae Feeding",
          "Dim1": 62.57845995773305,
          "Dim2": -24.217602963698873,
          "Sample": "Whole Larvae Feeding biological rep1"
         },
         {
          "Category": "Whole Larvae Feeding",
          "Dim1": 72.44352088202179,
          "Dim2": -20.73760708349657,
          "Sample": "Whole Larvae Feeding biological rep2"
         },
         {
          "Category": "Whole Larvae Feeding",
          "Dim1": 56.469559177526875,
          "Dim2": -26.531698869801165,
          "Sample": "Whole Larvae Feeding biological rep3"
         },
         {
          "Category": "Whole Larvae Feeding",
          "Dim1": 56.5663584095532,
          "Dim2": -27.179647639289993,
          "Sample": "Whole Larvae Feeding biological rep4"
         },
         {
          "Category": "Adult Trachea",
          "Dim1": -30.877054649849505,
          "Dim2": 44.635534430217305,
          "Sample": "Adult Trachea biological rep1"
         },
         {
          "Category": "Adult Trachea",
          "Dim1": -38.212308666893726,
          "Dim2": 21.305794890397035,
          "Sample": "Adult Trachea biological rep2"
         },
         {
          "Category": "Adult Trachea",
          "Dim1": -42.39397526060774,
          "Dim2": 43.68861577087516,
          "Sample": "Adult Trachea biological rep3"
         },
         {
          "Category": "Adult Trachea",
          "Dim1": -18.222643642454326,
          "Dim2": 3.8540976883472786,
          "Sample": "Adult Trachea biological rep4"
         },
         {
          "Category": "Adult Thoracic Muscle",
          "Dim1": -15.80614043662313,
          "Dim2": 21.785353255389875,
          "Sample": "Adult Thoracic Muscle biological rep1"
         },
         {
          "Category": "Adult Thoracic Muscle",
          "Dim1": -16.14122929179556,
          "Dim2": 24.543844207966,
          "Sample": "Adult Thoracic Muscle biological rep2"
         },
         {
          "Category": "Adult Thoracic Muscle",
          "Dim1": -21.080172599678253,
          "Dim2": 37.322144372961105,
          "Sample": "Adult Thoracic Muscle biological rep3"
         },
         {
          "Category": "Adult Thoracic Muscle",
          "Dim1": -18.03142689005708,
          "Dim2": -9.961727059421715,
          "Sample": "Adult Thoracic Muscle biological rep4"
         },
         {
          "Category": "Adult Wings",
          "Dim1": -54.300082590580395,
          "Dim2": 20.24294416324637,
          "Sample": "Adult Wings biological rep1"
         },
         {
          "Category": "Adult Wings",
          "Dim1": -39.08244737970556,
          "Dim2": 30.749860945955707,
          "Sample": "Adult Wings biological rep2"
         },
         {
          "Category": "Adult Wings",
          "Dim1": -54.341384247921795,
          "Dim2": 20.719161392842082,
          "Sample": "Adult Wings biological rep3"
         },
         {
          "Category": "Adult Wings",
          "Dim1": -57.04559736313776,
          "Dim2": 21.023229650299264,
          "Sample": "Adult Wings biological rep4"
         },
         {
          "Category": "Adult Female Spermatheca Mated (REDONE)",
          "Dim1": -15.931740135282524,
          "Dim2": -8.991165274216952,
          "Sample": "Adult Female Spermatheca Mated (REDONE) biological rep1"
         },
         {
          "Category": "Adult Female Spermatheca Mated (REDONE)",
          "Dim1": -12.91487996121743,
          "Dim2": 24.374277561617223,
          "Sample": "Adult Female Spermatheca Mated (REDONE) biological rep2"
         },
         {
          "Category": "Adult Female Spermatheca Mated (REDONE)",
          "Dim1": -22.426290026168132,
          "Dim2": -15.96882043995024,
          "Sample": "Adult Female Spermatheca Mated (REDONE) biological rep3"
         },
         {
          "Category": "Adult Female Spermatheca Mated (REDONE)",
          "Dim1": -22.491125280377798,
          "Dim2": -17.172161968955955,
          "Sample": "Adult Female Spermatheca Mated (REDONE) biological rep4\"\n"
         }
        ]
       },
       "encoding": {
        "color": {
         "field": "Category",
         "type": "nominal"
        },
        "tooltip": {
         "field": "Sample",
         "type": "nominal"
        },
        "x": {
         "field": "Dim1",
         "type": "quantitative"
        },
        "y": {
         "field": "Dim2",
         "type": "quantitative"
        }
       },
       "mark": "circle"
      },
      "image/png": "[encoded data removed]",
      "text/plain": [
       "<VegaLite 2 object>\n",
       "\n",
       "If you see this message, it means the renderer has not been properly enabled\n",
       "for the frontend that you are using. For more information, see\n",
       "https://altair-viz.github.io/user_guide/troubleshooting.html\n"
      ]
     },
     "execution_count": 15,
     "metadata": {},
     "output_type": "execute_result"
    }
   ],
   "source": [
    "pca = PCA(n_components=2)\n",
    "expression_pca = pca.fit_transform(log_expression.values.T)\n",
    "plot_two_dimensions(expression_pca, sample_categories, expression.columns)"
   ]
  },
  {
   "cell_type": "markdown",
   "metadata": {},
   "source": [
    "This code prints out the variance explained by component."
   ]
  },
  {
   "cell_type": "code",
   "execution_count": 16,
   "metadata": {},
   "outputs": [
    {
     "name": "stdout",
     "output_type": "stream",
     "text": [
      "[ 0.13853166  0.10866708]\n"
     ]
    }
   ],
   "source": [
    "print(pca.explained_variance_ratio_)"
   ]
  },
  {
   "cell_type": "markdown",
   "metadata": {},
   "source": [
    "This code makes a plot of the explained variance by component, like we saw on one of the lecture slides."
   ]
  },
  {
   "cell_type": "code",
   "execution_count": 17,
   "metadata": {},
   "outputs": [
    {
     "data": {
      "text/plain": [
       "Text(0,0.5,'variance explained')"
      ]
     },
     "execution_count": 17,
     "metadata": {},
     "output_type": "execute_result"
    },
    {
     "data": {
      "image/png": "[encoded data removed]",
      "text/plain": [
       "<Figure size 720x720 with 1 Axes>"
      ]
     },
     "metadata": {},
     "output_type": "display_data"
    }
   ],
   "source": [
    "plt.plot([x + 1 for x in range(len(pca.explained_variance_ratio_))], pca.explained_variance_ratio_, 'o-')\n",
    "plt.xlabel(\"principal component\")\n",
    "plt.ylabel(\"variance explained\")"
   ]
  },
  {
   "cell_type": "markdown",
   "metadata": {},
   "source": [
    "**Exercise:**\n",
    "\n",
    "Re-run the PCA with a higher number of dimensions and see how the plot of variance explained changes. How many components do you think are worth keeping if you were going to do this analysis?"
   ]
  },
  {
   "cell_type": "markdown",
   "metadata": {},
   "source": [
    "**Exercise:**\n",
    "\n",
    "Try creating an MDS plot using `MDS()`, which we imported from `sklearn.manifold`. All scikit-learn models use a consistent syntax, so the syntax is extremely similar to that for `PCA()`.\n",
    "\n",
    "Examine the documentation either online or just using `help(MDS)` in the notebook."
   ]
  },
  {
   "cell_type": "code",
   "execution_count": 18,
   "metadata": {},
   "outputs": [],
   "source": [
    "### YOUR CODE HERE"
   ]
  },
  {
   "cell_type": "markdown",
   "metadata": {},
   "source": [
    "**Exercise:**\n",
    "\n",
    "Try creating a tSNE plot using `TSNE()`, which we imported from `sklearn.manifold`. All scikit-learn models use a consistent syntax, so the syntax is extremely similar to that for `PCA()`.\n",
    "\n",
    "Examine the documentation either online or just using `help(TSNE)` in the notebook.\n",
    "\n",
    "`TSNE()` takes several parameters: the most important is `perplexity`. Lower values of perplexity try hard to preserve local structure at the cost of global structure, and vice versa. From the documentation, what is the default value of `perplexity`? What happens if you redo your plot with it set to a much lower or much higher value?"
   ]
  },
  {
   "cell_type": "code",
   "execution_count": 19,
   "metadata": {},
   "outputs": [],
   "source": [
    "### YOUR CODE HERE"
   ]
  },
  {
   "cell_type": "markdown",
   "metadata": {},
   "source": [
    "**Exercise:**\n",
    "\n",
    "Try creating a UMAP plot using `UMAP()`, which we imported from the `umap` library. `umap` is not part of scikit-learn, but it deliberately uses a similar syntax.\n",
    "\n",
    "Examine the documentation either online or just using `help(UMAP)` in the notebook.\n",
    "\n",
    "Look at the available parameters in the documentation. Try varying `n_neighbours` (which has a conceptual similarity to tSNE's `perplexity`) and `min_dist`."
   ]
  },
  {
   "cell_type": "code",
   "execution_count": 20,
   "metadata": {},
   "outputs": [],
   "source": [
    "### YOUR CODE HERE"
   ]
  },
  {
   "cell_type": "code",
   "execution_count": null,
   "metadata": {},
   "outputs": [],
   "source": []
  }
 ],
 "metadata": {
  "kernelspec": {
   "display_name": "Python 3",
   "language": "python",
   "name": "python3"
  },
  "language_info": {
   "codemirror_mode": {
    "name": "ipython",
    "version": 3
   },
   "file_extension": ".py",
   "mimetype": "text/x-python",
   "name": "python",
   "nbconvert_exporter": "python",
   "pygments_lexer": "ipython3",
   "version": "3.6.4"
  }
 },
 "nbformat": 4,
 "nbformat_minor": 2
}
